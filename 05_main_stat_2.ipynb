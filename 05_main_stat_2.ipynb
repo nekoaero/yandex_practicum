{
  "cells": [
    {
      "cell_type": "markdown",
      "metadata": {
        "id": "view-in-github",
        "colab_type": "text"
      },
      "source": [
        "<a href=\"https://colab.research.google.com/github/nekoaero/yandex_practicum/blob/main/05_main_stat_2.ipynb\" target=\"_parent\"><img src=\"https://colab.research.google.com/assets/colab-badge.svg\" alt=\"Open In Colab\"/></a>"
      ]
    },
    {
      "cell_type": "code",
      "execution_count": null,
      "metadata": {
        "id": "MI7AvZD6j9jX"
      },
      "outputs": [],
      "source": [
        "import pandas as pd\n",
        "import numpy as np\n",
        "from scipy import stats as st\n",
        "\n",
        "import warnings\n",
        "warnings.filterwarnings(action='ignore')\n",
        "\n",
        "from matplotlib import pyplot as plt\n",
        "import seaborn as sns\n",
        "%matplotlib inline"
      ]
    },
    {
      "cell_type": "markdown",
      "metadata": {
        "id": "QbguHNi_j9jh"
      },
      "source": [
        "## Двусторонние критерии на пальцах"
      ]
    },
    {
      "cell_type": "code",
      "execution_count": null,
      "metadata": {
        "id": "XEgmWH-Yj9jm"
      },
      "outputs": [],
      "source": [
        "# то до чего дошли в результате предыдущей консультации \n",
        "\n",
        "def get_p_value(t, n, mu0):    \n",
        "    # вероятность получить t из n или больше\n",
        "    # =\n",
        "    # 1 - (вероятность получить t-1 из n или меньше)    \n",
        "    return 1 - binom.cdf(t - 1, n, p=mu0)\n",
        "\n",
        "\n"
      ]
    },
    {
      "cell_type": "code",
      "execution_count": null,
      "metadata": {
        "id": "UY99dxa3j9jn"
      },
      "outputs": [],
      "source": [
        "def get_p_value_two_sided(t, n, mu0):    \n",
        "    if binom.cdf(t, n, mu0) > 0.5:        \n",
        "        # right-sided \n",
        "        one_sided_p = 1 - binom.cdf(t - 1, n, p=mu0)  \n",
        "        # вероятность получить t из n или больше\n",
        "        # =\n",
        "        # 1 - (вероятность получить t-1 из n или меньше)    \n",
        "        \n",
        "    else:\n",
        "        # left-sided \n",
        "        one_sided_p = binom.cdf(t, n, p=mu0)  \n",
        "        # вероятность получить t из n или меньше\n",
        "        \n",
        "    return min(one_sided_p * 2, 1)\n",
        "\n"
      ]
    },
    {
      "cell_type": "markdown",
      "metadata": {
        "id": "yElMrjb2j9jq"
      },
      "source": [
        "При нахождении как левого критического значения, так и правого, используем $\\frac{\\alpha}{2}$ вместо $\\alpha$."
      ]
    },
    {
      "cell_type": "markdown",
      "metadata": {
        "id": "zXhBgSyTj9jq"
      },
      "source": [
        "### Загрузка данных"
      ]
    },
    {
      "cell_type": "markdown",
      "metadata": {
        "id": "UYjlynAgj9js"
      },
      "source": [
        "Данные скачал из https://www.kaggle.com/carrie1/ecommerce-data"
      ]
    },
    {
      "cell_type": "markdown",
      "metadata": {
        "id": "fmix_l_mj9jt"
      },
      "source": [
        "This is a transnational data set which contains all the transactions occurring between 01/12/2010 and 09/12/2011 for a UK-based and registered non-store online retail.The company mainly sells unique all-occasion gifts. Many customers of the company are wholesalers."
      ]
    },
    {
      "cell_type": "code",
      "execution_count": null,
      "metadata": {
        "id": "ILQ3_ncXj9ju"
      },
      "outputs": [],
      "source": [
        "df = pd.read_csv('data (1).csv',encoding='cp1252')"
      ]
    },
    {
      "cell_type": "code",
      "execution_count": null,
      "metadata": {
        "id": "-XfjOu6Oj9jw",
        "outputId": "7fcd60eb-2c3e-4cb1-cb30-ffa2091335b9"
      },
      "outputs": [
        {
          "data": {
            "text/html": [
              "<div>\n",
              "<style scoped>\n",
              "    .dataframe tbody tr th:only-of-type {\n",
              "        vertical-align: middle;\n",
              "    }\n",
              "\n",
              "    .dataframe tbody tr th {\n",
              "        vertical-align: top;\n",
              "    }\n",
              "\n",
              "    .dataframe thead th {\n",
              "        text-align: right;\n",
              "    }\n",
              "</style>\n",
              "<table border=\"1\" class=\"dataframe\">\n",
              "  <thead>\n",
              "    <tr style=\"text-align: right;\">\n",
              "      <th></th>\n",
              "      <th>InvoiceNo</th>\n",
              "      <th>StockCode</th>\n",
              "      <th>Description</th>\n",
              "      <th>Quantity</th>\n",
              "      <th>InvoiceDate</th>\n",
              "      <th>UnitPrice</th>\n",
              "      <th>CustomerID</th>\n",
              "      <th>Country</th>\n",
              "    </tr>\n",
              "  </thead>\n",
              "  <tbody>\n",
              "    <tr>\n",
              "      <th>0</th>\n",
              "      <td>536365</td>\n",
              "      <td>85123A</td>\n",
              "      <td>WHITE HANGING HEART T-LIGHT HOLDER</td>\n",
              "      <td>6</td>\n",
              "      <td>12/1/2010 8:26</td>\n",
              "      <td>2.55</td>\n",
              "      <td>17850.0</td>\n",
              "      <td>United Kingdom</td>\n",
              "    </tr>\n",
              "    <tr>\n",
              "      <th>1</th>\n",
              "      <td>536365</td>\n",
              "      <td>71053</td>\n",
              "      <td>WHITE METAL LANTERN</td>\n",
              "      <td>6</td>\n",
              "      <td>12/1/2010 8:26</td>\n",
              "      <td>3.39</td>\n",
              "      <td>17850.0</td>\n",
              "      <td>United Kingdom</td>\n",
              "    </tr>\n",
              "    <tr>\n",
              "      <th>2</th>\n",
              "      <td>536365</td>\n",
              "      <td>84406B</td>\n",
              "      <td>CREAM CUPID HEARTS COAT HANGER</td>\n",
              "      <td>8</td>\n",
              "      <td>12/1/2010 8:26</td>\n",
              "      <td>2.75</td>\n",
              "      <td>17850.0</td>\n",
              "      <td>United Kingdom</td>\n",
              "    </tr>\n",
              "    <tr>\n",
              "      <th>3</th>\n",
              "      <td>536365</td>\n",
              "      <td>84029G</td>\n",
              "      <td>KNITTED UNION FLAG HOT WATER BOTTLE</td>\n",
              "      <td>6</td>\n",
              "      <td>12/1/2010 8:26</td>\n",
              "      <td>3.39</td>\n",
              "      <td>17850.0</td>\n",
              "      <td>United Kingdom</td>\n",
              "    </tr>\n",
              "    <tr>\n",
              "      <th>4</th>\n",
              "      <td>536365</td>\n",
              "      <td>84029E</td>\n",
              "      <td>RED WOOLLY HOTTIE WHITE HEART.</td>\n",
              "      <td>6</td>\n",
              "      <td>12/1/2010 8:26</td>\n",
              "      <td>3.39</td>\n",
              "      <td>17850.0</td>\n",
              "      <td>United Kingdom</td>\n",
              "    </tr>\n",
              "  </tbody>\n",
              "</table>\n",
              "</div>"
            ],
            "text/plain": [
              "  InvoiceNo StockCode                          Description  Quantity  \\\n",
              "0    536365    85123A   WHITE HANGING HEART T-LIGHT HOLDER         6   \n",
              "1    536365     71053                  WHITE METAL LANTERN         6   \n",
              "2    536365    84406B       CREAM CUPID HEARTS COAT HANGER         8   \n",
              "3    536365    84029G  KNITTED UNION FLAG HOT WATER BOTTLE         6   \n",
              "4    536365    84029E       RED WOOLLY HOTTIE WHITE HEART.         6   \n",
              "\n",
              "      InvoiceDate  UnitPrice  CustomerID         Country  \n",
              "0  12/1/2010 8:26       2.55     17850.0  United Kingdom  \n",
              "1  12/1/2010 8:26       3.39     17850.0  United Kingdom  \n",
              "2  12/1/2010 8:26       2.75     17850.0  United Kingdom  \n",
              "3  12/1/2010 8:26       3.39     17850.0  United Kingdom  \n",
              "4  12/1/2010 8:26       3.39     17850.0  United Kingdom  "
            ]
          },
          "execution_count": 3,
          "metadata": {},
          "output_type": "execute_result"
        }
      ],
      "source": [
        "df.head()"
      ]
    },
    {
      "cell_type": "code",
      "execution_count": null,
      "metadata": {
        "id": "3yRLsOLUj9j0"
      },
      "outputs": [],
      "source": [
        "UNREGISTERED_CUSTOMER_ID = -999999.0"
      ]
    },
    {
      "cell_type": "markdown",
      "metadata": {
        "id": "cQRiYJ2Fj9j1"
      },
      "source": [
        "### Предобработка данных"
      ]
    },
    {
      "cell_type": "code",
      "execution_count": null,
      "metadata": {
        "id": "4tY1cPOjj9j3"
      },
      "outputs": [],
      "source": [
        "df['InvoiceDate'] = pd.to_datetime(df['InvoiceDate'],format='%m/%d/%Y %H:%M')\n",
        "df['CustomerID'] = df['CustomerID'].fillna(UNREGISTERED_CUSTOMER_ID)\n",
        "\n",
        "user = df.groupby(['CustomerID'])['InvoiceDate'].min().reset_index()\n",
        "user.columns = ['CustomerID','reg_date']\n",
        "user['reg_month'] = user['reg_date'].values.astype('datetime64[M]')\n",
        "\n",
        "min_month = df['InvoiceDate'].values.astype('datetime64[M]').min()\n",
        "max_month = df['InvoiceDate'].values.astype('datetime64[M]').max()\n",
        "\n",
        "dr = pd.DataFrame(pd.date_range(min_month,max_month,freq='MS'))\n",
        "dr.columns = ['month']\n",
        "dr['key'] = 1\n",
        "\n",
        "user['key'] = 1\n",
        "report = dr.merge(user,on='key')\n",
        "report = report[report['month']>=report['reg_month']]\n",
        "\n",
        "df['month'] = df['InvoiceDate'].values.astype('datetime64[M]')\n",
        "df['revenue'] = df['Quantity'] * df['UnitPrice']\n",
        "\n",
        "sales_month = df.groupby(['CustomerID','month'])[['revenue']].agg(['sum']).reset_index()\n",
        "sales_month.columns = ['CustomerID','month','revenue']\n",
        "\n",
        "report = report.merge(sales_month,how='left',on=['CustomerID','month'])\n",
        "report['user'] = 1\n",
        "report['new'] = (report['reg_month'] == report['month']) * 1\n",
        "report['active'] = (report['revenue'] > 0) * 1\n",
        "\n",
        "report['active_prev'] = (report.sort_values(by=['month'], ascending=True)\n",
        "                       .groupby(['CustomerID'])['active'].shift(1))\n",
        "\n",
        "report['change_status'] = (report['active'] != report['active_prev']) * 1\n",
        "\n",
        "report['session_id'] = (report.sort_values(by=['month'], ascending=True)\n",
        "                       .groupby(['CustomerID'])['change_status'].cumsum())\n",
        "\n",
        "report['inactive'] = (report['active'] == 0) * 1\n",
        "\n",
        "report['month_inactive'] = (report.sort_values(by=['month'], ascending=True)\n",
        "                       .groupby(['CustomerID','session_id'])['inactive'].cumsum())\n",
        "\n",
        "report['churn_2m'] = (report['month_inactive'] >= 2) * 1"
      ]
    },
    {
      "cell_type": "code",
      "execution_count": null,
      "metadata": {
        "id": "pOzlOUikj9j6",
        "outputId": "5741b2bb-1cc0-45c0-dcd6-60ad9f6d3d83"
      },
      "outputs": [
        {
          "data": {
            "text/html": [
              "<div>\n",
              "<style scoped>\n",
              "    .dataframe tbody tr th:only-of-type {\n",
              "        vertical-align: middle;\n",
              "    }\n",
              "\n",
              "    .dataframe tbody tr th {\n",
              "        vertical-align: top;\n",
              "    }\n",
              "\n",
              "    .dataframe thead th {\n",
              "        text-align: right;\n",
              "    }\n",
              "</style>\n",
              "<table border=\"1\" class=\"dataframe\">\n",
              "  <thead>\n",
              "    <tr style=\"text-align: right;\">\n",
              "      <th></th>\n",
              "      <th>month</th>\n",
              "      <th>key</th>\n",
              "      <th>CustomerID</th>\n",
              "      <th>reg_date</th>\n",
              "      <th>reg_month</th>\n",
              "      <th>revenue</th>\n",
              "      <th>user</th>\n",
              "      <th>new</th>\n",
              "      <th>active</th>\n",
              "      <th>active_prev</th>\n",
              "      <th>change_status</th>\n",
              "      <th>session_id</th>\n",
              "      <th>inactive</th>\n",
              "      <th>month_inactive</th>\n",
              "      <th>churn_2m</th>\n",
              "    </tr>\n",
              "  </thead>\n",
              "  <tbody>\n",
              "    <tr>\n",
              "      <th>0</th>\n",
              "      <td>2010-12-01</td>\n",
              "      <td>1</td>\n",
              "      <td>-999999.0</td>\n",
              "      <td>2010-12-01 11:52:00</td>\n",
              "      <td>2010-12-01</td>\n",
              "      <td>194353.00</td>\n",
              "      <td>1</td>\n",
              "      <td>1</td>\n",
              "      <td>1</td>\n",
              "      <td>NaN</td>\n",
              "      <td>1</td>\n",
              "      <td>1</td>\n",
              "      <td>0</td>\n",
              "      <td>0</td>\n",
              "      <td>0</td>\n",
              "    </tr>\n",
              "    <tr>\n",
              "      <th>1</th>\n",
              "      <td>2010-12-01</td>\n",
              "      <td>1</td>\n",
              "      <td>12347.0</td>\n",
              "      <td>2010-12-07 14:57:00</td>\n",
              "      <td>2010-12-01</td>\n",
              "      <td>711.79</td>\n",
              "      <td>1</td>\n",
              "      <td>1</td>\n",
              "      <td>1</td>\n",
              "      <td>NaN</td>\n",
              "      <td>1</td>\n",
              "      <td>1</td>\n",
              "      <td>0</td>\n",
              "      <td>0</td>\n",
              "      <td>0</td>\n",
              "    </tr>\n",
              "    <tr>\n",
              "      <th>2</th>\n",
              "      <td>2010-12-01</td>\n",
              "      <td>1</td>\n",
              "      <td>12348.0</td>\n",
              "      <td>2010-12-16 19:09:00</td>\n",
              "      <td>2010-12-01</td>\n",
              "      <td>892.80</td>\n",
              "      <td>1</td>\n",
              "      <td>1</td>\n",
              "      <td>1</td>\n",
              "      <td>NaN</td>\n",
              "      <td>1</td>\n",
              "      <td>1</td>\n",
              "      <td>0</td>\n",
              "      <td>0</td>\n",
              "      <td>0</td>\n",
              "    </tr>\n",
              "    <tr>\n",
              "      <th>3</th>\n",
              "      <td>2010-12-01</td>\n",
              "      <td>1</td>\n",
              "      <td>12370.0</td>\n",
              "      <td>2010-12-14 12:58:00</td>\n",
              "      <td>2010-12-01</td>\n",
              "      <td>1868.02</td>\n",
              "      <td>1</td>\n",
              "      <td>1</td>\n",
              "      <td>1</td>\n",
              "      <td>NaN</td>\n",
              "      <td>1</td>\n",
              "      <td>1</td>\n",
              "      <td>0</td>\n",
              "      <td>0</td>\n",
              "      <td>0</td>\n",
              "    </tr>\n",
              "    <tr>\n",
              "      <th>4</th>\n",
              "      <td>2010-12-01</td>\n",
              "      <td>1</td>\n",
              "      <td>12377.0</td>\n",
              "      <td>2010-12-20 09:37:00</td>\n",
              "      <td>2010-12-01</td>\n",
              "      <td>1001.52</td>\n",
              "      <td>1</td>\n",
              "      <td>1</td>\n",
              "      <td>1</td>\n",
              "      <td>NaN</td>\n",
              "      <td>1</td>\n",
              "      <td>1</td>\n",
              "      <td>0</td>\n",
              "      <td>0</td>\n",
              "      <td>0</td>\n",
              "    </tr>\n",
              "  </tbody>\n",
              "</table>\n",
              "</div>"
            ],
            "text/plain": [
              "       month  key  CustomerID            reg_date  reg_month    revenue  user  \\\n",
              "0 2010-12-01    1   -999999.0 2010-12-01 11:52:00 2010-12-01  194353.00     1   \n",
              "1 2010-12-01    1     12347.0 2010-12-07 14:57:00 2010-12-01     711.79     1   \n",
              "2 2010-12-01    1     12348.0 2010-12-16 19:09:00 2010-12-01     892.80     1   \n",
              "3 2010-12-01    1     12370.0 2010-12-14 12:58:00 2010-12-01    1868.02     1   \n",
              "4 2010-12-01    1     12377.0 2010-12-20 09:37:00 2010-12-01    1001.52     1   \n",
              "\n",
              "   new  active  active_prev  change_status  session_id  inactive  \\\n",
              "0    1       1          NaN              1           1         0   \n",
              "1    1       1          NaN              1           1         0   \n",
              "2    1       1          NaN              1           1         0   \n",
              "3    1       1          NaN              1           1         0   \n",
              "4    1       1          NaN              1           1         0   \n",
              "\n",
              "   month_inactive  churn_2m  \n",
              "0               0         0  \n",
              "1               0         0  \n",
              "2               0         0  \n",
              "3               0         0  \n",
              "4               0         0  "
            ]
          },
          "execution_count": 33,
          "metadata": {},
          "output_type": "execute_result"
        }
      ],
      "source": [
        "report.head()"
      ]
    },
    {
      "cell_type": "code",
      "execution_count": null,
      "metadata": {
        "id": "oGSqx3hYj9j8",
        "outputId": "4bd71d0c-490b-4218-c741-d491de343435"
      },
      "outputs": [
        {
          "data": {
            "text/html": [
              "<div>\n",
              "<style scoped>\n",
              "    .dataframe tbody tr th:only-of-type {\n",
              "        vertical-align: middle;\n",
              "    }\n",
              "\n",
              "    .dataframe tbody tr th {\n",
              "        vertical-align: top;\n",
              "    }\n",
              "\n",
              "    .dataframe thead th {\n",
              "        text-align: right;\n",
              "    }\n",
              "</style>\n",
              "<table border=\"1\" class=\"dataframe\">\n",
              "  <thead>\n",
              "    <tr style=\"text-align: right;\">\n",
              "      <th></th>\n",
              "      <th>month</th>\n",
              "      <th>CustomerID</th>\n",
              "      <th>revenue</th>\n",
              "    </tr>\n",
              "  </thead>\n",
              "  <tbody>\n",
              "    <tr>\n",
              "      <th>0</th>\n",
              "      <td>2010-12-01</td>\n",
              "      <td>-999999.0</td>\n",
              "      <td>194353.00</td>\n",
              "    </tr>\n",
              "    <tr>\n",
              "      <th>1</th>\n",
              "      <td>2010-12-01</td>\n",
              "      <td>12347.0</td>\n",
              "      <td>711.79</td>\n",
              "    </tr>\n",
              "    <tr>\n",
              "      <th>2</th>\n",
              "      <td>2010-12-01</td>\n",
              "      <td>12348.0</td>\n",
              "      <td>892.80</td>\n",
              "    </tr>\n",
              "    <tr>\n",
              "      <th>3</th>\n",
              "      <td>2010-12-01</td>\n",
              "      <td>12370.0</td>\n",
              "      <td>1868.02</td>\n",
              "    </tr>\n",
              "    <tr>\n",
              "      <th>4</th>\n",
              "      <td>2010-12-01</td>\n",
              "      <td>12377.0</td>\n",
              "      <td>1001.52</td>\n",
              "    </tr>\n",
              "  </tbody>\n",
              "</table>\n",
              "</div>"
            ],
            "text/plain": [
              "       month  CustomerID    revenue\n",
              "0 2010-12-01   -999999.0  194353.00\n",
              "1 2010-12-01     12347.0     711.79\n",
              "2 2010-12-01     12348.0     892.80\n",
              "3 2010-12-01     12370.0    1868.02\n",
              "4 2010-12-01     12377.0    1001.52"
            ]
          },
          "execution_count": 6,
          "metadata": {},
          "output_type": "execute_result"
        }
      ],
      "source": [
        "report = report[['month', 'CustomerID', 'revenue']]\n",
        "report.head()"
      ]
    },
    {
      "cell_type": "markdown",
      "metadata": {
        "id": "UjdTVYNyj9j9"
      },
      "source": [
        "Заполним нулями пропуски после даты регистрации"
      ]
    },
    {
      "cell_type": "code",
      "execution_count": null,
      "metadata": {
        "id": "5xKB8IIvj9j-",
        "outputId": "59b7e2d8-f9db-48b8-c11a-d0b28db1d384"
      },
      "outputs": [
        {
          "data": {
            "text/html": [
              "<div>\n",
              "<style scoped>\n",
              "    .dataframe tbody tr th:only-of-type {\n",
              "        vertical-align: middle;\n",
              "    }\n",
              "\n",
              "    .dataframe tbody tr th {\n",
              "        vertical-align: top;\n",
              "    }\n",
              "\n",
              "    .dataframe thead th {\n",
              "        text-align: right;\n",
              "    }\n",
              "</style>\n",
              "<table border=\"1\" class=\"dataframe\">\n",
              "  <thead>\n",
              "    <tr style=\"text-align: right;\">\n",
              "      <th></th>\n",
              "      <th>month</th>\n",
              "      <th>CustomerID</th>\n",
              "      <th>revenue</th>\n",
              "    </tr>\n",
              "  </thead>\n",
              "  <tbody>\n",
              "    <tr>\n",
              "      <th>0</th>\n",
              "      <td>2010-12-01</td>\n",
              "      <td>-999999.0</td>\n",
              "      <td>194353.00</td>\n",
              "    </tr>\n",
              "    <tr>\n",
              "      <th>1</th>\n",
              "      <td>2010-12-01</td>\n",
              "      <td>12347.0</td>\n",
              "      <td>711.79</td>\n",
              "    </tr>\n",
              "    <tr>\n",
              "      <th>2</th>\n",
              "      <td>2010-12-01</td>\n",
              "      <td>12348.0</td>\n",
              "      <td>892.80</td>\n",
              "    </tr>\n",
              "    <tr>\n",
              "      <th>3</th>\n",
              "      <td>2010-12-01</td>\n",
              "      <td>12370.0</td>\n",
              "      <td>1868.02</td>\n",
              "    </tr>\n",
              "    <tr>\n",
              "      <th>4</th>\n",
              "      <td>2010-12-01</td>\n",
              "      <td>12377.0</td>\n",
              "      <td>1001.52</td>\n",
              "    </tr>\n",
              "  </tbody>\n",
              "</table>\n",
              "</div>"
            ],
            "text/plain": [
              "       month  CustomerID    revenue\n",
              "0 2010-12-01   -999999.0  194353.00\n",
              "1 2010-12-01     12347.0     711.79\n",
              "2 2010-12-01     12348.0     892.80\n",
              "3 2010-12-01     12370.0    1868.02\n",
              "4 2010-12-01     12377.0    1001.52"
            ]
          },
          "execution_count": 7,
          "metadata": {},
          "output_type": "execute_result"
        }
      ],
      "source": [
        "report.fillna(0, inplace=True)\n",
        "report.head()"
      ]
    },
    {
      "cell_type": "markdown",
      "metadata": {
        "id": "LDfEqSO-j9j_"
      },
      "source": [
        "Почистим от выбросов"
      ]
    },
    {
      "cell_type": "code",
      "execution_count": null,
      "metadata": {
        "id": "E8YyfET_j9kB",
        "outputId": "88b47ce7-c9d5-459f-a24e-37703c73da15"
      },
      "outputs": [
        {
          "data": {
            "image/png": "[encoded data removed]",
            "text/plain": [
              "<Figure size 432x288 with 1 Axes>"
            ]
          },
          "metadata": {
            "needs_background": "light"
          },
          "output_type": "display_data"
        }
      ],
      "source": [
        "report.revenue.hist(bins=100, range=(1,2000));"
      ]
    },
    {
      "cell_type": "code",
      "execution_count": null,
      "metadata": {
        "id": "RjafOgLtj9kK"
      },
      "outputs": [],
      "source": [
        "report_filtered = report[report['revenue'] < 2000]"
      ]
    },
    {
      "cell_type": "markdown",
      "metadata": {
        "id": "GEVpv0dJj9kL"
      },
      "source": [
        "Смотрим сколько данных мы выкинули"
      ]
    },
    {
      "cell_type": "code",
      "execution_count": null,
      "metadata": {
        "id": "OS_imhgDj9kN",
        "outputId": "eeb0dfa0-b073-47d1-bbce-56bc7880b6d6"
      },
      "outputs": [
        {
          "data": {
            "text/plain": [
              "(37449, 3)"
            ]
          },
          "execution_count": 10,
          "metadata": {},
          "output_type": "execute_result"
        }
      ],
      "source": [
        "report.shape"
      ]
    },
    {
      "cell_type": "code",
      "execution_count": null,
      "metadata": {
        "id": "E6DCXK35j9kP",
        "outputId": "bc9247a1-b2cf-44f3-828b-2b81ebf74f52"
      },
      "outputs": [
        {
          "data": {
            "text/plain": [
              "(36927, 3)"
            ]
          },
          "execution_count": 11,
          "metadata": {},
          "output_type": "execute_result"
        }
      ],
      "source": [
        "report_filtered.shape"
      ]
    },
    {
      "cell_type": "markdown",
      "metadata": {
        "id": "8Bnf-XxAj9kQ"
      },
      "source": [
        "# Проверка гипотез"
      ]
    },
    {
      "cell_type": "markdown",
      "metadata": {
        "id": "2aTG54cKj9kR"
      },
      "source": [
        "## Параметрические тесты"
      ]
    },
    {
      "cell_type": "markdown",
      "metadata": {
        "id": "qNkeh_08j9kT"
      },
      "source": [
        "### Двусторонняя проверка: Средние выручки за май и июнь одинаковы"
      ]
    },
    {
      "cell_type": "markdown",
      "metadata": {
        "id": "S3bQPkM-j9kT"
      },
      "source": [
        "Хотим проверить, различаются ли средние выручки у постоянных покупателей за май и за июнь."
      ]
    },
    {
      "cell_type": "markdown",
      "metadata": {
        "id": "hYFxcTz6j9kU"
      },
      "source": [
        "Для удобства сделаем таблицу, где в первом столбце пользователь, а в следующих столбцах - выручка от пользователя за месяц"
      ]
    },
    {
      "cell_type": "code",
      "execution_count": null,
      "metadata": {
        "id": "im31xsWbj9kU"
      },
      "outputs": [],
      "source": [
        "report_filtered_pivot = report_filtered.pivot(index='CustomerID', columns='month', values='revenue')"
      ]
    },
    {
      "cell_type": "code",
      "execution_count": null,
      "metadata": {
        "id": "T1ByubQVj9kV",
        "outputId": "07aac1cf-d1f0-4b91-e0e6-0898af35a84f"
      },
      "outputs": [
        {
          "data": {
            "text/html": [
              "<div>\n",
              "<style scoped>\n",
              "    .dataframe tbody tr th:only-of-type {\n",
              "        vertical-align: middle;\n",
              "    }\n",
              "\n",
              "    .dataframe tbody tr th {\n",
              "        vertical-align: top;\n",
              "    }\n",
              "\n",
              "    .dataframe thead th {\n",
              "        text-align: right;\n",
              "    }\n",
              "</style>\n",
              "<table border=\"1\" class=\"dataframe\">\n",
              "  <thead>\n",
              "    <tr style=\"text-align: right;\">\n",
              "      <th>month</th>\n",
              "      <th>2010-12-01</th>\n",
              "      <th>2011-01-01</th>\n",
              "      <th>2011-02-01</th>\n",
              "      <th>2011-03-01</th>\n",
              "      <th>2011-04-01</th>\n",
              "      <th>2011-05-01</th>\n",
              "      <th>2011-06-01</th>\n",
              "      <th>2011-07-01</th>\n",
              "      <th>2011-08-01</th>\n",
              "      <th>2011-09-01</th>\n",
              "      <th>2011-10-01</th>\n",
              "      <th>2011-11-01</th>\n",
              "      <th>2011-12-01</th>\n",
              "    </tr>\n",
              "    <tr>\n",
              "      <th>CustomerID</th>\n",
              "      <th></th>\n",
              "      <th></th>\n",
              "      <th></th>\n",
              "      <th></th>\n",
              "      <th></th>\n",
              "      <th></th>\n",
              "      <th></th>\n",
              "      <th></th>\n",
              "      <th></th>\n",
              "      <th></th>\n",
              "      <th></th>\n",
              "      <th></th>\n",
              "      <th></th>\n",
              "    </tr>\n",
              "  </thead>\n",
              "  <tbody>\n",
              "    <tr>\n",
              "      <th>12346.0</th>\n",
              "      <td>NaN</td>\n",
              "      <td>0.00</td>\n",
              "      <td>0.0</td>\n",
              "      <td>0.0</td>\n",
              "      <td>0.00</td>\n",
              "      <td>0.0</td>\n",
              "      <td>0.00</td>\n",
              "      <td>0.0</td>\n",
              "      <td>0.00</td>\n",
              "      <td>0.0</td>\n",
              "      <td>0.00</td>\n",
              "      <td>0.00</td>\n",
              "      <td>0.00</td>\n",
              "    </tr>\n",
              "    <tr>\n",
              "      <th>12347.0</th>\n",
              "      <td>711.79</td>\n",
              "      <td>475.39</td>\n",
              "      <td>0.0</td>\n",
              "      <td>0.0</td>\n",
              "      <td>636.25</td>\n",
              "      <td>0.0</td>\n",
              "      <td>382.52</td>\n",
              "      <td>0.0</td>\n",
              "      <td>584.91</td>\n",
              "      <td>0.0</td>\n",
              "      <td>1294.32</td>\n",
              "      <td>0.00</td>\n",
              "      <td>224.82</td>\n",
              "    </tr>\n",
              "    <tr>\n",
              "      <th>12348.0</th>\n",
              "      <td>892.80</td>\n",
              "      <td>227.44</td>\n",
              "      <td>0.0</td>\n",
              "      <td>0.0</td>\n",
              "      <td>367.00</td>\n",
              "      <td>0.0</td>\n",
              "      <td>0.00</td>\n",
              "      <td>0.0</td>\n",
              "      <td>0.00</td>\n",
              "      <td>310.0</td>\n",
              "      <td>0.00</td>\n",
              "      <td>0.00</td>\n",
              "      <td>0.00</td>\n",
              "    </tr>\n",
              "    <tr>\n",
              "      <th>12349.0</th>\n",
              "      <td>NaN</td>\n",
              "      <td>NaN</td>\n",
              "      <td>NaN</td>\n",
              "      <td>NaN</td>\n",
              "      <td>NaN</td>\n",
              "      <td>NaN</td>\n",
              "      <td>NaN</td>\n",
              "      <td>NaN</td>\n",
              "      <td>NaN</td>\n",
              "      <td>NaN</td>\n",
              "      <td>NaN</td>\n",
              "      <td>1757.55</td>\n",
              "      <td>0.00</td>\n",
              "    </tr>\n",
              "    <tr>\n",
              "      <th>12350.0</th>\n",
              "      <td>NaN</td>\n",
              "      <td>NaN</td>\n",
              "      <td>334.4</td>\n",
              "      <td>0.0</td>\n",
              "      <td>0.00</td>\n",
              "      <td>0.0</td>\n",
              "      <td>0.00</td>\n",
              "      <td>0.0</td>\n",
              "      <td>0.00</td>\n",
              "      <td>0.0</td>\n",
              "      <td>0.00</td>\n",
              "      <td>0.00</td>\n",
              "      <td>0.00</td>\n",
              "    </tr>\n",
              "  </tbody>\n",
              "</table>\n",
              "</div>"
            ],
            "text/plain": [
              "month       2010-12-01  2011-01-01  2011-02-01  2011-03-01  2011-04-01  \\\n",
              "CustomerID                                                               \n",
              "12346.0            NaN        0.00         0.0         0.0        0.00   \n",
              "12347.0         711.79      475.39         0.0         0.0      636.25   \n",
              "12348.0         892.80      227.44         0.0         0.0      367.00   \n",
              "12349.0            NaN         NaN         NaN         NaN         NaN   \n",
              "12350.0            NaN         NaN       334.4         0.0        0.00   \n",
              "\n",
              "month       2011-05-01  2011-06-01  2011-07-01  2011-08-01  2011-09-01  \\\n",
              "CustomerID                                                               \n",
              "12346.0            0.0        0.00         0.0        0.00         0.0   \n",
              "12347.0            0.0      382.52         0.0      584.91         0.0   \n",
              "12348.0            0.0        0.00         0.0        0.00       310.0   \n",
              "12349.0            NaN         NaN         NaN         NaN         NaN   \n",
              "12350.0            0.0        0.00         0.0        0.00         0.0   \n",
              "\n",
              "month       2011-10-01  2011-11-01  2011-12-01  \n",
              "CustomerID                                      \n",
              "12346.0           0.00        0.00        0.00  \n",
              "12347.0        1294.32        0.00      224.82  \n",
              "12348.0           0.00        0.00        0.00  \n",
              "12349.0            NaN     1757.55        0.00  \n",
              "12350.0           0.00        0.00        0.00  "
            ]
          },
          "execution_count": 13,
          "metadata": {},
          "output_type": "execute_result"
        }
      ],
      "source": [
        "report_filtered_pivot.head()"
      ]
    },
    {
      "cell_type": "markdown",
      "metadata": {
        "id": "5ZqCxCc4j9kV"
      },
      "source": [
        "Выделим постоянных покупателей - тех, кто делал покупки и в мае, и в июне"
      ]
    },
    {
      "cell_type": "code",
      "execution_count": null,
      "metadata": {
        "id": "plZ8sco9j9kW"
      },
      "outputs": [],
      "source": [
        "regular_customers = report_filtered_pivot[(report_filtered_pivot['2011-05-01'] > 0) & (report_filtered_pivot['2011-06-01'] > 0)]"
      ]
    },
    {
      "cell_type": "code",
      "execution_count": null,
      "metadata": {
        "id": "g23eG-FQj9kX",
        "outputId": "a1c89b80-e698-4d9a-a281-bad4150f0b18"
      },
      "outputs": [
        {
          "data": {
            "text/html": [
              "<div>\n",
              "<style scoped>\n",
              "    .dataframe tbody tr th:only-of-type {\n",
              "        vertical-align: middle;\n",
              "    }\n",
              "\n",
              "    .dataframe tbody tr th {\n",
              "        vertical-align: top;\n",
              "    }\n",
              "\n",
              "    .dataframe thead th {\n",
              "        text-align: right;\n",
              "    }\n",
              "</style>\n",
              "<table border=\"1\" class=\"dataframe\">\n",
              "  <thead>\n",
              "    <tr style=\"text-align: right;\">\n",
              "      <th>month</th>\n",
              "      <th>2010-12-01</th>\n",
              "      <th>2011-01-01</th>\n",
              "      <th>2011-02-01</th>\n",
              "      <th>2011-03-01</th>\n",
              "      <th>2011-04-01</th>\n",
              "      <th>2011-05-01</th>\n",
              "      <th>2011-06-01</th>\n",
              "      <th>2011-07-01</th>\n",
              "      <th>2011-08-01</th>\n",
              "      <th>2011-09-01</th>\n",
              "      <th>2011-10-01</th>\n",
              "      <th>2011-11-01</th>\n",
              "      <th>2011-12-01</th>\n",
              "    </tr>\n",
              "    <tr>\n",
              "      <th>CustomerID</th>\n",
              "      <th></th>\n",
              "      <th></th>\n",
              "      <th></th>\n",
              "      <th></th>\n",
              "      <th></th>\n",
              "      <th></th>\n",
              "      <th></th>\n",
              "      <th></th>\n",
              "      <th></th>\n",
              "      <th></th>\n",
              "      <th></th>\n",
              "      <th></th>\n",
              "      <th></th>\n",
              "    </tr>\n",
              "  </thead>\n",
              "  <tbody>\n",
              "    <tr>\n",
              "      <th>12395.0</th>\n",
              "      <td>679.92</td>\n",
              "      <td>-2.95</td>\n",
              "      <td>216.66</td>\n",
              "      <td>326.50</td>\n",
              "      <td>0.00</td>\n",
              "      <td>331.79</td>\n",
              "      <td>163.90</td>\n",
              "      <td>0.0</td>\n",
              "      <td>165.95</td>\n",
              "      <td>0.00</td>\n",
              "      <td>346.68</td>\n",
              "      <td>769.83</td>\n",
              "      <td>0.00</td>\n",
              "    </tr>\n",
              "    <tr>\n",
              "      <th>12399.0</th>\n",
              "      <td>NaN</td>\n",
              "      <td>NaN</td>\n",
              "      <td>NaN</td>\n",
              "      <td>288.05</td>\n",
              "      <td>0.00</td>\n",
              "      <td>480.90</td>\n",
              "      <td>130.08</td>\n",
              "      <td>0.0</td>\n",
              "      <td>209.62</td>\n",
              "      <td>0.00</td>\n",
              "      <td>0.00</td>\n",
              "      <td>0.00</td>\n",
              "      <td>0.00</td>\n",
              "    </tr>\n",
              "    <tr>\n",
              "      <th>12423.0</th>\n",
              "      <td>237.93</td>\n",
              "      <td>0.00</td>\n",
              "      <td>192.31</td>\n",
              "      <td>347.35</td>\n",
              "      <td>255.36</td>\n",
              "      <td>333.82</td>\n",
              "      <td>84.92</td>\n",
              "      <td>0.0</td>\n",
              "      <td>198.98</td>\n",
              "      <td>-10.20</td>\n",
              "      <td>0.00</td>\n",
              "      <td>0.00</td>\n",
              "      <td>208.64</td>\n",
              "    </tr>\n",
              "    <tr>\n",
              "      <th>12437.0</th>\n",
              "      <td>NaN</td>\n",
              "      <td>337.95</td>\n",
              "      <td>590.26</td>\n",
              "      <td>147.71</td>\n",
              "      <td>209.10</td>\n",
              "      <td>635.32</td>\n",
              "      <td>501.64</td>\n",
              "      <td>0.0</td>\n",
              "      <td>0.00</td>\n",
              "      <td>557.28</td>\n",
              "      <td>263.46</td>\n",
              "      <td>1488.04</td>\n",
              "      <td>165.90</td>\n",
              "    </tr>\n",
              "    <tr>\n",
              "      <th>12463.0</th>\n",
              "      <td>NaN</td>\n",
              "      <td>NaN</td>\n",
              "      <td>NaN</td>\n",
              "      <td>NaN</td>\n",
              "      <td>344.57</td>\n",
              "      <td>291.98</td>\n",
              "      <td>337.84</td>\n",
              "      <td>0.0</td>\n",
              "      <td>0.00</td>\n",
              "      <td>0.00</td>\n",
              "      <td>329.24</td>\n",
              "      <td>0.00</td>\n",
              "      <td>0.00</td>\n",
              "    </tr>\n",
              "  </tbody>\n",
              "</table>\n",
              "</div>"
            ],
            "text/plain": [
              "month       2010-12-01  2011-01-01  2011-02-01  2011-03-01  2011-04-01  \\\n",
              "CustomerID                                                               \n",
              "12395.0         679.92       -2.95      216.66      326.50        0.00   \n",
              "12399.0            NaN         NaN         NaN      288.05        0.00   \n",
              "12423.0         237.93        0.00      192.31      347.35      255.36   \n",
              "12437.0            NaN      337.95      590.26      147.71      209.10   \n",
              "12463.0            NaN         NaN         NaN         NaN      344.57   \n",
              "\n",
              "month       2011-05-01  2011-06-01  2011-07-01  2011-08-01  2011-09-01  \\\n",
              "CustomerID                                                               \n",
              "12395.0         331.79      163.90         0.0      165.95        0.00   \n",
              "12399.0         480.90      130.08         0.0      209.62        0.00   \n",
              "12423.0         333.82       84.92         0.0      198.98      -10.20   \n",
              "12437.0         635.32      501.64         0.0        0.00      557.28   \n",
              "12463.0         291.98      337.84         0.0        0.00        0.00   \n",
              "\n",
              "month       2011-10-01  2011-11-01  2011-12-01  \n",
              "CustomerID                                      \n",
              "12395.0         346.68      769.83        0.00  \n",
              "12399.0           0.00        0.00        0.00  \n",
              "12423.0           0.00        0.00      208.64  \n",
              "12437.0         263.46     1488.04      165.90  \n",
              "12463.0         329.24        0.00        0.00  "
            ]
          },
          "execution_count": 15,
          "metadata": {},
          "output_type": "execute_result"
        }
      ],
      "source": [
        "regular_customers.head()"
      ]
    },
    {
      "cell_type": "markdown",
      "metadata": {
        "id": "D6WSKVZPj9kX"
      },
      "source": [
        "### Но сначала проверка нормальности распределения!"
      ]
    },
    {
      "cell_type": "code",
      "execution_count": null,
      "metadata": {
        "scrolled": true,
        "id": "dAkpM8kfj9kY",
        "outputId": "381ea88f-6083-4279-8ee1-46ab2f6ccfa3"
      },
      "outputs": [
        {
          "data": {
            "image/png": "[encoded data removed]",
            "text/plain": [
              "<Figure size 432x288 with 1 Axes>"
            ]
          },
          "metadata": {
            "needs_background": "light"
          },
          "output_type": "display_data"
        }
      ],
      "source": [
        "sns.distplot(regular_customers['2011-05-01']);\n",
        "sns.distplot(regular_customers['2011-06-01']);"
      ]
    },
    {
      "cell_type": "markdown",
      "metadata": {
        "id": "WEf3rEjGj9kZ"
      },
      "source": [
        "#### Проверка при помощи QQ-графиков"
      ]
    },
    {
      "cell_type": "code",
      "execution_count": null,
      "metadata": {
        "id": "YrZGD8i_j9kZ",
        "outputId": "26eccf60-ea7c-46c7-af63-a6b5d76b0154"
      },
      "outputs": [
        {
          "data": {
            "image/png": "[encoded data removed]",
            "text/plain": [
              "<Figure size 864x576 with 2 Axes>"
            ]
          },
          "metadata": {
            "needs_background": "light"
          },
          "output_type": "display_data"
        }
      ],
      "source": [
        "# строим qq-plot для нормального распределения\n",
        "plt.figure(figsize=(12,8))\n",
        "plt.subplot(2,2,1)\n",
        "st.probplot(regular_customers['2011-05-01'], dist=\"norm\", plot=plt)\n",
        "plt.subplot(2,2,2)\n",
        "st.probplot(regular_customers['2011-06-01'], dist=\"norm\", plot=plt)\n",
        "plt.show()"
      ]
    },
    {
      "cell_type": "markdown",
      "metadata": {
        "id": "liZJycJ-j9kb"
      },
      "source": [
        "#### Проверка при помощи критерий Шапиро-Уилка"
      ]
    },
    {
      "cell_type": "code",
      "execution_count": null,
      "metadata": {
        "id": "bpcuSyJij9ke"
      },
      "outputs": [],
      "source": [
        "alpha=0.05"
      ]
    },
    {
      "cell_type": "markdown",
      "metadata": {
        "id": "e81T0ACPj9kf"
      },
      "source": [
        "Критерий Шапиро-Уилка:\n",
        "\n",
        "$\\begin{equation*}\n",
        " \\begin{cases}\n",
        "   H_0 :\\text{Средние выручки за май/июнь распределены нормально}\\\\\n",
        "   H_1 :\\text{Средние выручки за май/июнь распределены не нормально}\n",
        " \\end{cases}\n",
        "\\end{equation*}$"
      ]
    },
    {
      "cell_type": "code",
      "execution_count": null,
      "metadata": {
        "id": "ak1Kgo17j9kh",
        "outputId": "a6453920-ef63-4e6e-b366-cba43efc807a"
      },
      "outputs": [
        {
          "name": "stdout",
          "output_type": "stream",
          "text": [
            "Shapiro-Wilk normality test, W-statistic: 0.875104, p-value: 0.000000\n"
          ]
        }
      ],
      "source": [
        "print(\"Shapiro-Wilk normality test, W-statistic: %f, p-value: %f\" % st.shapiro(regular_customers['2011-05-01']))"
      ]
    },
    {
      "cell_type": "code",
      "execution_count": null,
      "metadata": {
        "scrolled": true,
        "id": "gUhcUHtij9kh",
        "outputId": "bdceeed1-9858-400a-f074-b325746931fd"
      },
      "outputs": [
        {
          "name": "stdout",
          "output_type": "stream",
          "text": [
            "Shapiro-Wilk normality test, W-statistic: 0.838997, p-value: 0.000000\n"
          ]
        }
      ],
      "source": [
        "print(\"Shapiro-Wilk normality test, W-statistic: %f, p-value: %f\" % st.shapiro(regular_customers['2011-06-01']))"
      ]
    },
    {
      "cell_type": "code",
      "execution_count": null,
      "metadata": {
        "id": "ee2HMSycj9ki",
        "outputId": "868043b5-9b69-44b9-f380-df432ae9262e"
      },
      "outputs": [
        {
          "data": {
            "text/plain": [
              "ShapiroResult(statistic=0.9608938097953796, pvalue=0.7960150837898254)"
            ]
          },
          "execution_count": 42,
          "metadata": {},
          "output_type": "execute_result"
        }
      ],
      "source": [
        "st.shapiro(st.norm(0,1).rvs(100000))"
      ]
    },
    {
      "cell_type": "code",
      "execution_count": null,
      "metadata": {
        "id": "TPW13qkUj9kj"
      },
      "outputs": [],
      "source": [
        ""
      ]
    },
    {
      "cell_type": "markdown",
      "metadata": {
        "id": "GszdKpZrj9kk"
      },
      "source": [
        "### Двусторонняя проверка: Средние выручки за май и июнь одинаковы"
      ]
    },
    {
      "cell_type": "markdown",
      "metadata": {
        "id": "cx8mjLy2j9kn"
      },
      "source": [
        "<p>Введем основную и альтернативные гипотезы:</p>\n",
        "\n",
        "$\\begin{equation*}\n",
        " \\begin{cases}\n",
        "   H_0 :\\text{Средние выручки за май и июнь одинаковы}\\\\\n",
        "   H_1 :\\text{Средние выручки за май и июнь отличаются}\n",
        " \\end{cases}\n",
        "\\end{equation*}$\n",
        "\n",
        "Уровень значимости: $\\alpha = 0.05$\n",
        "\n",
        "Посчитаем p-value, используя ttest из библиотеки scipy для сравнения средних двух выборок.\n",
        "\n",
        "Если p-value будет меньше выбранного уровня значимости $\\alpha = 0.05$, то нулевую гипотезу о равенстве средних отвергнем. Иначе сделаем вывод, что данные не позволили нам отвергнуть нулевую гипотезу."
      ]
    },
    {
      "cell_type": "markdown",
      "metadata": {
        "id": "KbDrX7-wj9kp"
      },
      "source": [
        "Применим ttest к выручкам за июнь и за май"
      ]
    },
    {
      "cell_type": "code",
      "execution_count": null,
      "metadata": {
        "id": "UvQDdD7Oj9kq",
        "outputId": "4620106f-0085-49bc-de96-111951d6e987"
      },
      "outputs": [
        {
          "name": "stdout",
          "output_type": "stream",
          "text": [
            "p-значение:  0.1199296294881324\n",
            "Не получилось отвергнуть нулевую гипотезу\n"
          ]
        }
      ],
      "source": [
        "results = st.ttest_ind(regular_customers['2011-05-01'], regular_customers['2011-06-01'], equal_var=False)\n",
        "print('p-значение: ', results.pvalue)\n",
        "\n",
        "if (results.pvalue < alpha):\n",
        "    print(\"Отвергаем нулевую гипотезу\")\n",
        "else:\n",
        "    print(\"Не получилось отвергнуть нулевую гипотезу\")"
      ]
    },
    {
      "cell_type": "markdown",
      "metadata": {
        "id": "YLUVp8ztj9kt"
      },
      "source": [
        "Воспользуемся тем, что выборки связаны"
      ]
    },
    {
      "cell_type": "code",
      "execution_count": null,
      "metadata": {
        "id": "gSWEZrq2j9kv",
        "outputId": "217d4a97-0fc1-42b9-a364-2b3b3f7b649e"
      },
      "outputs": [
        {
          "name": "stdout",
          "output_type": "stream",
          "text": [
            "p-значение:  0.01590694684288648\n",
            "Отвергаем нулевую гипотезу\n"
          ]
        }
      ],
      "source": [
        "results = st.ttest_rel(regular_customers['2011-05-01'], regular_customers['2011-06-01'])\n",
        "print('p-значение: ', results.pvalue)\n",
        "\n",
        "if (results.pvalue < alpha):\n",
        "    print(\"Отвергаем нулевую гипотезу\")\n",
        "else:\n",
        "    print(\"Не получилось отвергнуть нулевую гипотезу\")"
      ]
    },
    {
      "cell_type": "markdown",
      "metadata": {
        "id": "eD3-nW6Zj9kv"
      },
      "source": [
        "Вывод: p-value получилось меньше выбранного уровня $\\alpha = 0.05$. Отвергаем нулевую гипотезу - средние выручки постоянных покупателей за май и июнь отличаются"
      ]
    },
    {
      "cell_type": "markdown",
      "metadata": {
        "id": "UdoJ-2Fsj9kx"
      },
      "source": [
        "### Односторонняя проверка: Выручка в мае больше выручки в июне"
      ]
    },
    {
      "cell_type": "markdown",
      "metadata": {
        "id": "jULhmNCpj9kx"
      },
      "source": [
        "$\\begin{equation*}\n",
        " \\begin{cases}\n",
        "   H_0 :\\text{Средние выручка за май и июнь одинаковы}\\\\\n",
        "   H_1 :\\text{Средняя выручка за май больше средней выручки за июнь}\n",
        " \\end{cases}\n",
        "\\end{equation*}$"
      ]
    },
    {
      "cell_type": "markdown",
      "metadata": {
        "id": "0bftMzj-j9ky"
      },
      "source": [
        "Можем использовать параметр alternative='greater'"
      ]
    },
    {
      "cell_type": "code",
      "execution_count": null,
      "metadata": {
        "id": "SBkacNMpj9kz",
        "outputId": "741fd7c8-da88-4c52-ae70-3372191efc59"
      },
      "outputs": [
        {
          "name": "stdout",
          "output_type": "stream",
          "text": [
            "p-значение:  0.00795347342144324\n",
            "Отвергаем нулевую гипотезу\n"
          ]
        }
      ],
      "source": [
        "results = st.ttest_rel(regular_customers['2011-05-01'], regular_customers['2011-06-01'], alternative='greater')\n",
        "print('p-значение: ', results.pvalue)\n",
        "\n",
        "if (results.pvalue < alpha):\n",
        "    print(\"Отвергаем нулевую гипотезу\")\n",
        "else:\n",
        "    print(\"Не получилось отвергнуть нулевую гипотезу\")"
      ]
    },
    {
      "cell_type": "markdown",
      "metadata": {
        "id": "vjxeepwxj9k0"
      },
      "source": [
        "Или проверять, как учат в программе Практикума"
      ]
    },
    {
      "cell_type": "code",
      "execution_count": null,
      "metadata": {
        "id": "R4BT6xzbj9k1",
        "outputId": "22fac898-05f1-43f9-aefb-9a57ec473f17"
      },
      "outputs": [
        {
          "name": "stdout",
          "output_type": "stream",
          "text": [
            "p-значение:  0.00795347342144324\n",
            "Отвергаем нулевую гипотезу\n"
          ]
        }
      ],
      "source": [
        "alpha = .05 # критический уровень статистической значимости\n",
        "\n",
        "results = st.ttest_rel(regular_customers['2011-05-01'], regular_customers['2011-06-01'])\n",
        "\n",
        "# тест односторонний: p-value будет в два раза меньше\n",
        "print('p-значение: ', results.pvalue / 2)\n",
        "\n",
        "# тест односторонний влево:\n",
        "# отвергаем гипотезу только если выборочное среднее значимо меньше предполагаемого значения\n",
        "if (results.pvalue / 2 < alpha) and (regular_customers['2011-05-01'].mean() > regular_customers['2011-06-01'].mean()):\n",
        "    print(\"Отвергаем нулевую гипотезу\")\n",
        "else:\n",
        "    print(\"Не получилось отвергнуть нулевую гипотезу\")"
      ]
    },
    {
      "cell_type": "code",
      "execution_count": null,
      "metadata": {
        "id": "m4feE58Yj9k2",
        "outputId": "872920a8-91e0-4531-e27e-fdf3a7d6ecc3"
      },
      "outputs": [
        {
          "data": {
            "text/plain": [
              "498.3157526881718"
            ]
          },
          "execution_count": 25,
          "metadata": {},
          "output_type": "execute_result"
        }
      ],
      "source": [
        "regular_customers['2011-05-01'].mean()"
      ]
    },
    {
      "cell_type": "code",
      "execution_count": null,
      "metadata": {
        "id": "f8AkC9Q6j9k2",
        "outputId": "a626db16-4c45-41c0-fc17-44a6e3ca9a1a"
      },
      "outputs": [
        {
          "data": {
            "text/plain": [
              "457.48075268817195"
            ]
          },
          "execution_count": 26,
          "metadata": {},
          "output_type": "execute_result"
        }
      ],
      "source": [
        "regular_customers['2011-06-01'].mean()"
      ]
    },
    {
      "cell_type": "markdown",
      "metadata": {
        "id": "zL9yaCjQj9k3"
      },
      "source": [
        "### Односторонняя проверка: Выручка в мае меньше выручки в июне"
      ]
    },
    {
      "cell_type": "markdown",
      "metadata": {
        "id": "giH3OpK7j9k3"
      },
      "source": [
        "$\\begin{equation*}\n",
        " \\begin{cases}\n",
        "   H_0 :\\text{Средние выручка за май и июнь одинаковы}\\\\\n",
        "   H_1 :\\text{Средняя выручка за май меньше средней выручки за июнь}\n",
        " \\end{cases}\n",
        "\\end{equation*}$"
      ]
    },
    {
      "cell_type": "markdown",
      "metadata": {
        "id": "BiuucShUj9k4"
      },
      "source": [
        "Можем использовать параметр alternative='less'"
      ]
    },
    {
      "cell_type": "code",
      "execution_count": null,
      "metadata": {
        "id": "lVblayA_j9k5",
        "outputId": "e9ec8e5e-16ff-4f53-ce90-8e74469b8fdd"
      },
      "outputs": [
        {
          "name": "stdout",
          "output_type": "stream",
          "text": [
            "p-значение:  0.9920465265785567\n",
            "Не получилось отвергнуть нулевую гипотезу\n"
          ]
        }
      ],
      "source": [
        "results = st.ttest_rel(regular_customers['2011-05-01'], regular_customers['2011-06-01'], alternative='less')\n",
        "print('p-значение: ', results.pvalue)\n",
        "\n",
        "if (results.pvalue < alpha):\n",
        "    print(\"Отвергаем нулевую гипотезу\")\n",
        "else:\n",
        "    print(\"Не получилось отвергнуть нулевую гипотезу\")"
      ]
    },
    {
      "cell_type": "markdown",
      "metadata": {
        "id": "pwV3lFy3j9k6"
      },
      "source": [
        "Или проверять, как учат в программе Практикума"
      ]
    },
    {
      "cell_type": "code",
      "execution_count": null,
      "metadata": {
        "id": "ezRLjzJcj9k6",
        "outputId": "42362c26-4bee-481a-834b-cd01c644c774"
      },
      "outputs": [
        {
          "name": "stdout",
          "output_type": "stream",
          "text": [
            "p-значение:  0.00795347342144324\n",
            "Не получилось отвергнуть нулевую гипотезу\n"
          ]
        }
      ],
      "source": [
        "alpha = .05 # критический уровень статистической значимости\n",
        "\n",
        "results = st.ttest_rel(regular_customers['2011-05-01'], regular_customers['2011-06-01'])\n",
        "\n",
        "# тест односторонний: p-value будет в два раза меньше\n",
        "print('p-значение: ', results.pvalue / 2)\n",
        "\n",
        "# тест односторонний влево:\n",
        "# отвергаем гипотезу только если выборочное среднее значимо меньше предполагаемого значения\n",
        "if (results.pvalue / 2 < alpha) and (regular_customers['2011-05-01'].mean() < regular_customers['2011-06-01'].mean()):\n",
        "    print(\"Отвергаем нулевую гипотезу\")\n",
        "else:\n",
        "    print(\"Не получилось отвергнуть нулевую гипотезу\")"
      ]
    },
    {
      "cell_type": "markdown",
      "metadata": {
        "id": "SMrK3IJzj9k7"
      },
      "source": [
        "## Непараметрический тест Манна-Уитни"
      ]
    },
    {
      "cell_type": "markdown",
      "metadata": {
        "id": "ZklcuQ9zj9k7"
      },
      "source": [
        "Используем, если распределение случайных величины очень сильно отличается от нормального"
      ]
    },
    {
      "cell_type": "markdown",
      "metadata": {
        "id": "KVzT1kMZj9k8"
      },
      "source": [
        "### Двусторонняя проверка"
      ]
    },
    {
      "cell_type": "markdown",
      "metadata": {
        "id": "ea8YYAnVj9k9"
      },
      "source": [
        "<p>Введем основную и альтернативные гипотезы:</p>\n",
        "\n",
        "$\\begin{equation*}\n",
        " \\begin{cases}\n",
        "   H_0 :\\text{Средние выручки за май и июнь одинаковы}\\\\\n",
        "   H_1 :\\text{Средние выручки за май и июнь отличаются}\n",
        " \\end{cases}\n",
        "\\end{equation*}$\n",
        "\n",
        "Уровень значимости: $\\alpha = 0.05$\n",
        "\n",
        "Посчитаем p-value, используя ttest из библиотеки scipy для сравнения средних двух выборок.\n",
        "\n",
        "Если p-value будет меньше выбранного уровня значимости $\\alpha = 0.05$, то нулевую гипотезу о равенстве средних отвергнем. Иначе сделаем вывод, что данные не позволили нам отвергнуть нулевую гипотезу."
      ]
    },
    {
      "cell_type": "code",
      "execution_count": null,
      "metadata": {
        "id": "nn2MD-SUj9k9",
        "outputId": "cd3d5945-e4cc-49a9-b605-176f26496d43"
      },
      "outputs": [
        {
          "name": "stdout",
          "output_type": "stream",
          "text": [
            "p-значение:  0.03928658478737981\n",
            "Отвергаем нулевую гипотезу\n"
          ]
        }
      ],
      "source": [
        "results = st.mannwhitneyu(regular_customers['2011-05-01'], regular_customers['2011-06-01'], alternative='two-sided')\n",
        "print('p-значение: ', results.pvalue)\n",
        "\n",
        "if (results.pvalue < alpha):\n",
        "    print(\"Отвергаем нулевую гипотезу\")\n",
        "else:\n",
        "    print(\"Не получилось отвергнуть нулевую гипотезу\")"
      ]
    },
    {
      "cell_type": "markdown",
      "metadata": {
        "id": "Er624g_4j9k-"
      },
      "source": [
        "### Односторонняя проверка"
      ]
    },
    {
      "cell_type": "markdown",
      "metadata": {
        "id": "SWtOekHQj9k_"
      },
      "source": [
        "$\\begin{equation*}\n",
        " \\begin{cases}\n",
        "   H_0 :\\text{Средние выручка за май и июнь одинаковы}\\\\\n",
        "   H_1 :\\text{Средняя выручка за май больше средней выручки за июнь}\n",
        " \\end{cases}\n",
        "\\end{equation*}$"
      ]
    },
    {
      "cell_type": "code",
      "execution_count": null,
      "metadata": {
        "id": "Ah8bpw7jj9k_",
        "outputId": "4a4b9a28-099d-4144-98c0-49e39472976c"
      },
      "outputs": [
        {
          "name": "stdout",
          "output_type": "stream",
          "text": [
            "p-значение:  0.019643292393689903\n",
            "Отвергаем нулевую гипотезу\n"
          ]
        }
      ],
      "source": [
        "results = st.mannwhitneyu(regular_customers['2011-05-01'], regular_customers['2011-06-01'], alternative='greater')\n",
        "print('p-значение: ', results.pvalue)\n",
        "\n",
        "if (results.pvalue < alpha):\n",
        "    print(\"Отвергаем нулевую гипотезу\")\n",
        "else:\n",
        "    print(\"Не получилось отвергнуть нулевую гипотезу\")"
      ]
    },
    {
      "cell_type": "markdown",
      "metadata": {
        "id": "cfpYY-tOj9lB"
      },
      "source": [
        "### Односторонняя проверка"
      ]
    },
    {
      "cell_type": "markdown",
      "metadata": {
        "id": "WIsx4k0zj9lC"
      },
      "source": [
        "$\\begin{equation*}\n",
        " \\begin{cases}\n",
        "   H_0 :\\text{Средние выручка за май и июнь одинаковы}\\\\\n",
        "   H_1 :\\text{Средняя выручка за май меньше средней выручки за июнь}\n",
        " \\end{cases}\n",
        "\\end{equation*}$"
      ]
    },
    {
      "cell_type": "code",
      "execution_count": null,
      "metadata": {
        "id": "2KD5nKeEj9lD",
        "outputId": "86c1a7ea-ac6b-431f-db6b-64b0ed49b7c4"
      },
      "outputs": [
        {
          "name": "stdout",
          "output_type": "stream",
          "text": [
            "p-значение:  0.9803729702674745\n",
            "Не получилось отвергнуть нулевую гипотезу\n"
          ]
        }
      ],
      "source": [
        "results = st.mannwhitneyu(regular_customers['2011-05-01'], regular_customers['2011-06-01'], alternative='less')\n",
        "print('p-значение: ', results.pvalue)\n",
        "\n",
        "if (results.pvalue < alpha):\n",
        "    print(\"Отвергаем нулевую гипотезу\")\n",
        "else:\n",
        "    print(\"Не получилось отвергнуть нулевую гипотезу\")"
      ]
    },
    {
      "cell_type": "code",
      "execution_count": null,
      "metadata": {
        "id": "2i7AyWTQj9lE"
      },
      "outputs": [],
      "source": [
        ""
      ]
    }
  ],
  "metadata": {
    "kernelspec": {
      "display_name": "Python 3 (ipykernel)",
      "language": "python",
      "name": "python3"
    },
    "language_info": {
      "codemirror_mode": {
        "name": "ipython",
        "version": 3
      },
      "file_extension": ".py",
      "mimetype": "text/x-python",
      "name": "python",
      "nbconvert_exporter": "python",
      "pygments_lexer": "ipython3",
      "version": "3.9.7"
    },
    "colab": {
      "name": "Main_stat_2.ipynb",
      "provenance": [],
      "include_colab_link": true
    }
  },
  "nbformat": 4,
  "nbformat_minor": 0
}