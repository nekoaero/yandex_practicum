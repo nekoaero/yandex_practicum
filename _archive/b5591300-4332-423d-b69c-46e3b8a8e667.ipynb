{
 "cells": [
  {
   "cell_type": "markdown",
   "metadata": {
    "id": "4uTmOwAJ1736"
   },
   "source": [
    "# Проектная работа \"Исследовательский анализ данных\"\n",
    "\n",
    "### Описание проекта\n",
    "В нашем распоряжении данные сервиса **Яндекс.Недвижимость** — архив объявлений о продаже квартир в Санкт-Петербурге и соседних населённых пунктах за несколько лет. \n",
    "Цель - определять рыночную стоимость объектов недвижимости. Ваша задача — установить параметры. Это позволит построить автоматизированную систему: она отследит аномалии и мошенническую деятельность.\n",
    "\n",
    "По каждой квартире на продажу доступны два вида данных. Первые вписаны пользователем, вторые — получены автоматически на основе картографических данных. Например, расстояние до центра, аэропорта, ближайшего парка и водоёма."
   ]
  },
  {
   "cell_type": "markdown",
   "metadata": {
    "id": "1jhw_O_i2yIT"
   },
   "source": [
    "---\n",
    "### Шаг 1. Знакомство с данными\n",
    "\n",
    "Путь к файлу: /datasets/real_estate_data.csv\n",
    "\n",
    "https://code.s3.yandex.net/datasets/real_estate_data.csv\n"
   ]
  },
  {
   "cell_type": "code",
   "execution_count": 2,
   "metadata": {
    "executionInfo": {
     "elapsed": 5,
     "status": "ok",
     "timestamp": 1644588625932,
     "user": {
      "displayName": "Alexander Bratishko",
      "photoUrl": "https://lh3.googleusercontent.com/a-/AOh14GjyaiN_xsJXf1CoVxKfgO7CHQDVX-Ln80V5WGEDt18=s64",
      "userId": "02034327767188161442"
     },
     "user_tz": -180
    },
    "id": "UkPh8VaB4AKG"
   },
   "outputs": [],
   "source": [
    "from textwrap import dedent\n",
    "from IPython import get_ipython"
   ]
  },
  {
   "cell_type": "code",
   "execution_count": 3,
   "metadata": {
    "colab": {
     "base_uri": "https://localhost:8080/"
    },
    "executionInfo": {
     "elapsed": 1888,
     "status": "ok",
     "timestamp": 1644588627817,
     "user": {
      "displayName": "Alexander Bratishko",
      "photoUrl": "https://lh3.googleusercontent.com/a-/AOh14GjyaiN_xsJXf1CoVxKfgO7CHQDVX-Ln80V5WGEDt18=s64",
      "userId": "02034327767188161442"
     },
     "user_tz": -180
    },
    "id": "V_APhtNL0_Gw",
    "outputId": "01b5fba0-0966-44ec-f85e-b1d3aa8a8775"
   },
   "outputs": [
    {
     "name": "stdout",
     "output_type": "stream",
     "text": [
      "<class 'pandas.core.frame.DataFrame'>\n",
      "RangeIndex: 23699 entries, 0 to 23698\n",
      "Data columns (total 22 columns):\n",
      " #   Column                Non-Null Count  Dtype  \n",
      "---  ------                --------------  -----  \n",
      " 0   total_images          23699 non-null  int64  \n",
      " 1   last_price            23699 non-null  float64\n",
      " 2   total_area            23699 non-null  float64\n",
      " 3   first_day_exposition  23699 non-null  object \n",
      " 4   rooms                 23699 non-null  int64  \n",
      " 5   ceiling_height        14504 non-null  float64\n",
      " 6   floors_total          23613 non-null  float64\n",
      " 7   living_area           21796 non-null  float64\n",
      " 8   floor                 23699 non-null  int64  \n",
      " 9   is_apartment          2775 non-null   object \n",
      " 10  studio                23699 non-null  bool   \n",
      " 11  open_plan             23699 non-null  bool   \n",
      " 12  kitchen_area          21421 non-null  float64\n",
      " 13  balcony               12180 non-null  float64\n",
      " 14  locality_name         23650 non-null  object \n",
      " 15  airports_nearest      18157 non-null  float64\n",
      " 16  cityCenters_nearest   18180 non-null  float64\n",
      " 17  parks_around3000      18181 non-null  float64\n",
      " 18  parks_nearest         8079 non-null   float64\n",
      " 19  ponds_around3000      18181 non-null  float64\n",
      " 20  ponds_nearest         9110 non-null   float64\n",
      " 21  days_exposition       20518 non-null  float64\n",
      "dtypes: bool(2), float64(14), int64(3), object(3)\n",
      "memory usage: 3.7+ MB\n"
     ]
    }
   ],
   "source": [
    "import pandas as pd\n",
    "\n",
    "# Подключаем источник данных\n",
    "#df = pd.read_csv('/datasets/real_estate_data.csv', sep='\\t')\n",
    "df = pd.read_csv('https://code.s3.yandex.net/datasets/real_estate_data.csv', sep='\\t')\n",
    "\n",
    "# Получаем информацию о данных\n",
    "df.info()"
   ]
  },
  {
   "cell_type": "code",
   "execution_count": 4,
   "metadata": {
    "colab": {
     "base_uri": "https://localhost:8080/"
    },
    "executionInfo": {
     "elapsed": 17,
     "status": "ok",
     "timestamp": 1644588627818,
     "user": {
      "displayName": "Alexander Bratishko",
      "photoUrl": "https://lh3.googleusercontent.com/a-/AOh14GjyaiN_xsJXf1CoVxKfgO7CHQDVX-Ln80V5WGEDt18=s64",
      "userId": "02034327767188161442"
     },
     "user_tz": -180
    },
    "id": "4UTTV-8O9ULU",
    "outputId": "c7fdb27b-0d91-428d-881c-f7e0e402f159"
   },
   "outputs": [
    {
     "name": "stdout",
     "output_type": "stream",
     "text": [
      "В таблице 22 столбцов и 23699 строк.\n"
     ]
    }
   ],
   "source": [
    "# Размер таблицы\n",
    "print(f\"В таблице {df.shape[1]} столбцов и {df.shape[0]} строк.\")"
   ]
  },
  {
   "cell_type": "code",
   "execution_count": 5,
   "metadata": {
    "colab": {
     "base_uri": "https://localhost:8080/",
     "height": 357
    },
    "executionInfo": {
     "elapsed": 15,
     "status": "ok",
     "timestamp": 1644588627819,
     "user": {
      "displayName": "Alexander Bratishko",
      "photoUrl": "https://lh3.googleusercontent.com/a-/AOh14GjyaiN_xsJXf1CoVxKfgO7CHQDVX-Ln80V5WGEDt18=s64",
      "userId": "02034327767188161442"
     },
     "user_tz": -180
    },
    "id": "hhItGSJJ7IXY",
    "outputId": "a58046f8-b69c-4ccc-e3bf-07f1163c717b"
   },
   "outputs": [
    {
     "data": {
      "text/html": [
       "<div>\n",
       "<style scoped>\n",
       "    .dataframe tbody tr th:only-of-type {\n",
       "        vertical-align: middle;\n",
       "    }\n",
       "\n",
       "    .dataframe tbody tr th {\n",
       "        vertical-align: top;\n",
       "    }\n",
       "\n",
       "    .dataframe thead th {\n",
       "        text-align: right;\n",
       "    }\n",
       "</style>\n",
       "<table border=\"1\" class=\"dataframe\">\n",
       "  <thead>\n",
       "    <tr style=\"text-align: right;\">\n",
       "      <th></th>\n",
       "      <th>total_images</th>\n",
       "      <th>last_price</th>\n",
       "      <th>total_area</th>\n",
       "      <th>first_day_exposition</th>\n",
       "      <th>rooms</th>\n",
       "      <th>ceiling_height</th>\n",
       "      <th>floors_total</th>\n",
       "      <th>living_area</th>\n",
       "      <th>floor</th>\n",
       "      <th>is_apartment</th>\n",
       "      <th>...</th>\n",
       "      <th>kitchen_area</th>\n",
       "      <th>balcony</th>\n",
       "      <th>locality_name</th>\n",
       "      <th>airports_nearest</th>\n",
       "      <th>cityCenters_nearest</th>\n",
       "      <th>parks_around3000</th>\n",
       "      <th>parks_nearest</th>\n",
       "      <th>ponds_around3000</th>\n",
       "      <th>ponds_nearest</th>\n",
       "      <th>days_exposition</th>\n",
       "    </tr>\n",
       "  </thead>\n",
       "  <tbody>\n",
       "    <tr>\n",
       "      <th>0</th>\n",
       "      <td>20</td>\n",
       "      <td>13000000.0</td>\n",
       "      <td>108.0</td>\n",
       "      <td>2019-03-07T00:00:00</td>\n",
       "      <td>3</td>\n",
       "      <td>2.70</td>\n",
       "      <td>16.0</td>\n",
       "      <td>51.0</td>\n",
       "      <td>8</td>\n",
       "      <td>NaN</td>\n",
       "      <td>...</td>\n",
       "      <td>25.0</td>\n",
       "      <td>NaN</td>\n",
       "      <td>Санкт-Петербург</td>\n",
       "      <td>18863.0</td>\n",
       "      <td>16028.0</td>\n",
       "      <td>1.0</td>\n",
       "      <td>482.0</td>\n",
       "      <td>2.0</td>\n",
       "      <td>755.0</td>\n",
       "      <td>NaN</td>\n",
       "    </tr>\n",
       "    <tr>\n",
       "      <th>1</th>\n",
       "      <td>7</td>\n",
       "      <td>3350000.0</td>\n",
       "      <td>40.4</td>\n",
       "      <td>2018-12-04T00:00:00</td>\n",
       "      <td>1</td>\n",
       "      <td>NaN</td>\n",
       "      <td>11.0</td>\n",
       "      <td>18.6</td>\n",
       "      <td>1</td>\n",
       "      <td>NaN</td>\n",
       "      <td>...</td>\n",
       "      <td>11.0</td>\n",
       "      <td>2.0</td>\n",
       "      <td>посёлок Шушары</td>\n",
       "      <td>12817.0</td>\n",
       "      <td>18603.0</td>\n",
       "      <td>0.0</td>\n",
       "      <td>NaN</td>\n",
       "      <td>0.0</td>\n",
       "      <td>NaN</td>\n",
       "      <td>81.0</td>\n",
       "    </tr>\n",
       "    <tr>\n",
       "      <th>2</th>\n",
       "      <td>10</td>\n",
       "      <td>5196000.0</td>\n",
       "      <td>56.0</td>\n",
       "      <td>2015-08-20T00:00:00</td>\n",
       "      <td>2</td>\n",
       "      <td>NaN</td>\n",
       "      <td>5.0</td>\n",
       "      <td>34.3</td>\n",
       "      <td>4</td>\n",
       "      <td>NaN</td>\n",
       "      <td>...</td>\n",
       "      <td>8.3</td>\n",
       "      <td>0.0</td>\n",
       "      <td>Санкт-Петербург</td>\n",
       "      <td>21741.0</td>\n",
       "      <td>13933.0</td>\n",
       "      <td>1.0</td>\n",
       "      <td>90.0</td>\n",
       "      <td>2.0</td>\n",
       "      <td>574.0</td>\n",
       "      <td>558.0</td>\n",
       "    </tr>\n",
       "    <tr>\n",
       "      <th>3</th>\n",
       "      <td>0</td>\n",
       "      <td>64900000.0</td>\n",
       "      <td>159.0</td>\n",
       "      <td>2015-07-24T00:00:00</td>\n",
       "      <td>3</td>\n",
       "      <td>NaN</td>\n",
       "      <td>14.0</td>\n",
       "      <td>NaN</td>\n",
       "      <td>9</td>\n",
       "      <td>NaN</td>\n",
       "      <td>...</td>\n",
       "      <td>NaN</td>\n",
       "      <td>0.0</td>\n",
       "      <td>Санкт-Петербург</td>\n",
       "      <td>28098.0</td>\n",
       "      <td>6800.0</td>\n",
       "      <td>2.0</td>\n",
       "      <td>84.0</td>\n",
       "      <td>3.0</td>\n",
       "      <td>234.0</td>\n",
       "      <td>424.0</td>\n",
       "    </tr>\n",
       "    <tr>\n",
       "      <th>4</th>\n",
       "      <td>2</td>\n",
       "      <td>10000000.0</td>\n",
       "      <td>100.0</td>\n",
       "      <td>2018-06-19T00:00:00</td>\n",
       "      <td>2</td>\n",
       "      <td>3.03</td>\n",
       "      <td>14.0</td>\n",
       "      <td>32.0</td>\n",
       "      <td>13</td>\n",
       "      <td>NaN</td>\n",
       "      <td>...</td>\n",
       "      <td>41.0</td>\n",
       "      <td>NaN</td>\n",
       "      <td>Санкт-Петербург</td>\n",
       "      <td>31856.0</td>\n",
       "      <td>8098.0</td>\n",
       "      <td>2.0</td>\n",
       "      <td>112.0</td>\n",
       "      <td>1.0</td>\n",
       "      <td>48.0</td>\n",
       "      <td>121.0</td>\n",
       "    </tr>\n",
       "  </tbody>\n",
       "</table>\n",
       "<p>5 rows × 22 columns</p>\n",
       "</div>"
      ],
      "text/plain": [
       "   total_images  last_price  total_area first_day_exposition  rooms  \\\n",
       "0            20  13000000.0       108.0  2019-03-07T00:00:00      3   \n",
       "1             7   3350000.0        40.4  2018-12-04T00:00:00      1   \n",
       "2            10   5196000.0        56.0  2015-08-20T00:00:00      2   \n",
       "3             0  64900000.0       159.0  2015-07-24T00:00:00      3   \n",
       "4             2  10000000.0       100.0  2018-06-19T00:00:00      2   \n",
       "\n",
       "   ceiling_height  floors_total  living_area  floor is_apartment  ...  \\\n",
       "0            2.70          16.0         51.0      8          NaN  ...   \n",
       "1             NaN          11.0         18.6      1          NaN  ...   \n",
       "2             NaN           5.0         34.3      4          NaN  ...   \n",
       "3             NaN          14.0          NaN      9          NaN  ...   \n",
       "4            3.03          14.0         32.0     13          NaN  ...   \n",
       "\n",
       "   kitchen_area  balcony    locality_name  airports_nearest  \\\n",
       "0          25.0      NaN  Санкт-Петербург           18863.0   \n",
       "1          11.0      2.0   посёлок Шушары           12817.0   \n",
       "2           8.3      0.0  Санкт-Петербург           21741.0   \n",
       "3           NaN      0.0  Санкт-Петербург           28098.0   \n",
       "4          41.0      NaN  Санкт-Петербург           31856.0   \n",
       "\n",
       "  cityCenters_nearest  parks_around3000  parks_nearest  ponds_around3000  \\\n",
       "0             16028.0               1.0          482.0               2.0   \n",
       "1             18603.0               0.0            NaN               0.0   \n",
       "2             13933.0               1.0           90.0               2.0   \n",
       "3              6800.0               2.0           84.0               3.0   \n",
       "4              8098.0               2.0          112.0               1.0   \n",
       "\n",
       "   ponds_nearest  days_exposition  \n",
       "0          755.0              NaN  \n",
       "1            NaN             81.0  \n",
       "2          574.0            558.0  \n",
       "3          234.0            424.0  \n",
       "4           48.0            121.0  \n",
       "\n",
       "[5 rows x 22 columns]"
      ]
     },
     "execution_count": 5,
     "metadata": {},
     "output_type": "execute_result"
    }
   ],
   "source": [
    "# Выведем пять строк таблицы\n",
    "df.head()"
   ]
  },
  {
   "cell_type": "markdown",
   "metadata": {},
   "source": [
    "**Описание столбцов**\n",
    "\n",
    "В исходных данных даны следующие параметры столбцов:\n",
    "\n",
    "| Имя столбца | Описание данных в столбце | Размерность | Тип данных |\n",
    "| --- | --- | --- | --- |\n",
    "| `total_images` | Количество фотографий в объявлении | шт. | integer |\n",
    "| `last_price` | Цена на момент снятия с публикации | ден.ед. | float |\n",
    "| `total_area` | Площадь квартиры | м² | float |\n",
    "| `first_day_exposition` | Дата публикации объявления | дата | datetime |\n",
    "| `rooms` | Количество комнат | шт. | integer |\n",
    "| `ceiling_height` | Высота потолков | м | float |\n",
    "| `floors_total` | Количество этажей в здании | шт. | integer |\n",
    "| `living_area` | Жилая площадь | м² | float |\n",
    "| `floor` | Этаж | - | integer |\n",
    "| `is_apartment` | Тип жилого помещения апартаменты | - | boolean |\n",
    "| `studio` | Тип жилого помещения студия | - | boolean |\n",
    "| `open_plan` | Свободная планировка жилого помещения | - | boolean |\n",
    "| `kitchen_area` | Площадь кухни | м² | float |\n",
    "| `balcony` | Количество балконов | шт. | integer |\n",
    "| `locality_name` | Название населённого пункта | - | string |\n",
    "| `airports_nearest` | Расстояние до ближайшего аэропорта | м | integer |\n",
    "| `cityCenters_nearest` | Расстояние до центра города | м | integer |\n",
    "| `parks_around3000` | Число парков в радиусе 3 км | шт. | integer |\n",
    "| `parks_nearest` | Расстояние до ближайшего парка | м | integer |\n",
    "| `ponds_around3000` | Число водоёмов в радиусе 3 км | шт. | integer |\n",
    "| `ponds_nearest` | Расстояние до ближайшего водоёма | м | integer |\n",
    "| `days_exposition` | Количество дней публикации объявления | шт. | integer |"
   ]
  },
  {
   "cell_type": "markdown",
   "metadata": {},
   "source": [
    "**Вывод**\n",
    "\n",
    "1. Наименования столбцов: некоторые столбцы содержат смешенный стиль названия, например, `cityCenters_nearest`. А некторые названия можно уточнить или доплнить для удобства последующей работы.\n",
    "\n",
    "\n",
    "2. Тип данных в столбцах: часто встречаются вещественные типы данных, тогда как в столбце должен быть целочисленный тип. Это встречается в следующих столбцах:\n",
    "\n",
    "<ul style='list-style-type: none; margin-left: 50px;'>\n",
    "<li><code>floors_total</code>,</li>\n",
    "<li><code>balcony</code>,</li>\n",
    "<li><code>airports_nearest</code>,</li>\n",
    "<li><code>cityCenters_nearest</code>,</li>\n",
    "<li><code>parks_around3000</code>,</li>\n",
    "<li><code>parks_nearest</code>,</li>\n",
    "<li><code>ponds_around3000</code>,</li>\n",
    "<li><code>ponds_nearest</code>,</li>\n",
    "<li><code>days_exposition</code>,</li>\n",
    "    </ul>\n",
    "\n",
    "3. Неполнота данных: в таких столбцах пропущены данные:\n",
    "\n",
    "<ul style='list-style-type: none; margin-left: 50px;'>\n",
    "<li><code>ceiling_height</code>,</li>\n",
    "<li><code>floors_total</code>,</li>\n",
    "<li><code>living_area</code>,</li>\n",
    "<li><code>is_apartment</code>,</li>\n",
    "<li><code>kitchen_area</code>,</li>\n",
    "<li><code>balcony</code>,</li>\n",
    "<li><code>locality_name</code>,</li>\n",
    "<li><code>airports_neares</code>,</li>\n",
    "<li><code>cityCenters_nearest</code>,</li>\n",
    "<li><code>parks_around3000</code>,</li>\n",
    "<li><code>parks_nearest</code>,</li>\n",
    "<li><code>ponds_around3000</code>,</li>\n",
    "<li><code>ponds_nearest</code>,</li>\n",
    "<li><code>days_exposition</code>,</li>\n",
    "    </ul>"
   ]
  },
  {
   "cell_type": "markdown",
   "metadata": {
    "id": "myjMwCW71uTh"
   },
   "source": [
    "---\n",
    "### Шаг 2. Предобработка данных\n",
    "\n",
    "\n",
    "2.0 Переименование столбцов\n",
    "\n",
    "Перед началом работы приведём названия некоторых столбцов к следующему виду:\n",
    "\n",
    "<ul style='list-style-type: none; margin-left: 50px;'>\n",
    "<li><code>studio</code> → <code>is_studio</code>,</li>\n",
    "<li><code>open_plan</code> → <code>is_open_plan</code>,</li>\n",
    "<li><code>cityCenters_nearest</code> → <code>center_distance</code>,</li>\n",
    "<li><code>parks_around3000</code> → <code>parks_around</code>,</li>\n",
    "<li><code>ponds_around3000</code> → <code>ponds_around</code>.</li>\n",
    "    </ul>"
   ]
  },
  {
   "cell_type": "code",
   "execution_count": 8,
   "metadata": {},
   "outputs": [],
   "source": [
    "df = df.rename(\n",
    "    columns={\n",
    "        'studio': 'is_studio',\n",
    "        'open_plan': 'is_open_plan',\n",
    "        'cityCenters_nearest': 'center_distance',\n",
    "        'parks_around3000': 'parks_around',\n",
    "        'ponds_around3000': 'ponds_around'\n",
    "    })"
   ]
  },
  {
   "cell_type": "markdown",
   "metadata": {
    "id": "myjMwCW71uTh"
   },
   "source": [
    "1.   Определите и изучите пропущенные значения:\n",
    "    \n",
    "\n",
    "*   Для некоторых пропущенных значений можно предположить логичную замену.\n",
    "Например, если человек не указал число балконов — скорее всего, их нет. Такие пропуски правильно заменить на 0. Для других типов данных нет подходящего значения на замену. В этом случае правильно оставить эти значения пустыми. Отсутствие значения — тоже важный сигнал, который не нужно прятать.\n",
    "\n",
    "*   Заполните пропуски, где это уместно. Опишите, почему вы решили заполнить пропуски именно в этих столбцах и как выбрали значения.\n",
    "\n",
    "*   Укажите причины, которые могли привести к пропускам в данных."
   ]
  },
  {
   "cell_type": "code",
   "execution_count": 9,
   "metadata": {},
   "outputs": [
    {
     "data": {
      "text/plain": [
       "Index(['total_images', 'last_price', 'total_area', 'first_day_exposition',\n",
       "       'rooms', 'ceiling_height', 'floors_total', 'living_area', 'floor',\n",
       "       'is_apartment', 'is_studio', 'is_open_plan', 'kitchen_area', 'balcony',\n",
       "       'locality_name', 'airports_nearest', 'center_distance', 'parks_around',\n",
       "       'parks_nearest', 'ponds_around', 'ponds_nearest', 'days_exposition'],\n",
       "      dtype='object')"
      ]
     },
     "execution_count": 9,
     "metadata": {},
     "output_type": "execute_result"
    }
   ],
   "source": [
    "df.columns"
   ]
  },
  {
   "cell_type": "markdown",
   "metadata": {
    "id": "KSh4YXB_1pA0"
   },
   "source": [
    "2.   Приведите данные к нужным типам: Поясните, в каких столбцах нужно изменить тип данных и почему."
   ]
  },
  {
   "cell_type": "markdown",
   "metadata": {
    "id": "smHJ1MxNcVll"
   },
   "source": [
    "- Первично предобработаю столбцы. <= 20 * 22 минут = 7 часов 20 минут\n",
    "    * Изучу на предмет пропуков, неуместных значений и неподходящих типов. 3 минут на каждый столбец\n",
    "    * Заполню вывод 10 минут на каждый столбец:\n",
    "        - Обнаруженные аномалии: ...\n",
    "        - Причины, по которым они могли возникнуть: ...\n",
    "        - Как исправлять: ...\n",
    "        - Финальный тип и почему: ...\n",
    "    * Удалю строки, если нужно. 7 минут\n",
    "- Заполню пропуски после удаления выбросов. 10 минут"
   ]
  },
  {
   "cell_type": "code",
   "execution_count": 23,
   "metadata": {
    "executionInfo": {
     "elapsed": 13,
     "status": "ok",
     "timestamp": 1644588627820,
     "user": {
      "displayName": "Alexander Bratishko",
      "photoUrl": "https://lh3.googleusercontent.com/a-/AOh14GjyaiN_xsJXf1CoVxKfgO7CHQDVX-Ln80V5WGEDt18=s64",
      "userId": "02034327767188161442"
     },
     "user_tz": -180
    },
    "id": "Ij26aIwE4AKS"
   },
   "outputs": [],
   "source": [
    "def create_cell(shell, text):\n",
    "    payload = dict(\n",
    "        source='set_next_input',\n",
    "        text=text,\n",
    "        replace=False,\n",
    "    )\n",
    "    shell.payload_manager.write_payload(payload, single=False)\n",
    "\n",
    "def generate_column_preprocess_description(df):\n",
    "    shell = get_ipython()\n",
    "    for i, column in reversed(list(enumerate(df.columns))):\n",
    "        create_cell(shell, dedent(\n",
    "            '''\n",
    "            * Изменение\n",
    "            '''\n",
    "        ))\n",
    "        create_cell(shell, dedent(\n",
    "            '''\n",
    "            * Вывод\n",
    "            \\t- Обнаруженные аномалии: ...\n",
    "            \\t- Причины, по которым они могли возникнуть: ...\n",
    "            \\t- Как исправлять: ...\n",
    "            \\t- Финальный тип и почему: ...\n",
    "            '''\n",
    "        ))\n",
    "        create_cell(shell, dedent(\n",
    "            f'''\n",
    "            investigate_column(df[\"{column}\"])\n",
    "            '''\n",
    "        ))\n",
    "        create_cell(shell, dedent(\n",
    "            '''\n",
    "            * Изучим значения\n",
    "            '''\n",
    "        ))\n",
    "        create_cell(shell, dedent(\n",
    "            f'''\n",
    "            #### {i+1}. Обработка \"{column}\"\n",
    "            '''\n",
    "        ))"
   ]
  },
  {
   "cell_type": "code",
   "execution_count": 24,
   "metadata": {
    "executionInfo": {
     "elapsed": 13,
     "status": "ok",
     "timestamp": 1644588627821,
     "user": {
      "displayName": "Alexander Bratishko",
      "photoUrl": "https://lh3.googleusercontent.com/a-/AOh14GjyaiN_xsJXf1CoVxKfgO7CHQDVX-Ln80V5WGEDt18=s64",
      "userId": "02034327767188161442"
     },
     "user_tz": -180
    },
    "id": "hg-okgB44AKU"
   },
   "outputs": [],
   "source": [
    "def investigate_column(column):\n",
    "    print('Null or Na count is', column.isna().sum())\n",
    "    print(column.describe())"
   ]
  },
  {
   "cell_type": "code",
   "execution_count": 29,
   "metadata": {
    "colab": {
     "base_uri": "https://localhost:8080/"
    },
    "executionInfo": {
     "elapsed": 287,
     "status": "ok",
     "timestamp": 1644590770512,
     "user": {
      "displayName": "Alexander Bratishko",
      "photoUrl": "https://lh3.googleusercontent.com/a-/AOh14GjyaiN_xsJXf1CoVxKfgO7CHQDVX-Ln80V5WGEDt18=s64",
      "userId": "02034327767188161442"
     },
     "user_tz": -180
    },
    "id": "RDAanpVi4AKV",
    "outputId": "eb31dc38-e5a4-440b-a444-a100f3a4943b"
   },
   "outputs": [
    {
     "name": "stdout",
     "output_type": "stream",
     "text": [
      "None\n"
     ]
    }
   ],
   "source": [
    "generate_column_preprocess_description(df)"
   ]
  },
  {
   "cell_type": "code",
   "execution_count": null,
   "metadata": {
    "id": "DT2QkxdMT6B9"
   },
   "outputs": [],
   "source": [
    "\n"
   ]
  },
  {
   "cell_type": "markdown",
   "metadata": {
    "id": "q-eGUHUhT9yh"
   },
   "source": [
    "---\n",
    "\n",
    "### Шаг 3. Посчитайте и добавьте в таблицу\n",
    "  \n",
    "3.1   цену квадратного метра;\n",
    "\n",
    "3.2   день недели, месяц и год публикации объявления;\n",
    "\n",
    "3.3   этаж квартиры; варианты — первый, последний, другой;\n",
    "\n",
    "3.4   соотношение жилой и общей площади, а также отношение площади кухни к общей."
   ]
  },
  {
   "cell_type": "markdown",
   "metadata": {
    "id": "XDKNSyoxdHUb"
   },
   "source": [
    "**Новые признаки. 40 минут:**\n",
    "\n",
    "\n",
    "3.1 Поделю `last_price` на `total_area` и посчитаю квадртный метр (`price_per_area`) 5 минут\n",
    "\n",
    "3.2 Извлеку из поля `first_day_exposition` день недели (`first_exposition_day_of_week`), месяц (`first_exposition_month`) и год публикации объявления (`first_exposition_year`) 10 минут\n",
    "\n",
    "3.3 Напишу функцию `get_floor_type`, которая по floor возвращает тип: первый (first), последний (last), другой (other). И применю её к столбцу `floor`, результат запишу в столбец `floor_type`: 10 минут\n",
    "\n",
    "3.4 Посчитаю соотношение жилой и общей площади. Для этого поделю `living_area` на `total_area`. Результат сохраню в `living_total_ratio`. 5 минут\n",
    "\n",
    "Посчитаю отношение площади кухни к общей. Для этого поделю `kitchen_area` на `total_area`. Результат сохраню в `living_total_ratio`. 5 минут"
   ]
  },
  {
   "cell_type": "markdown",
   "metadata": {
    "id": "EGSbWLhwVk7A"
   },
   "source": [
    "---\n",
    "\n",
    "### Шаг 4. Проведите исследовательский анализ данных."
   ]
  },
  {
   "cell_type": "markdown",
   "metadata": {
    "id": "TtpND_dRVxCM"
   },
   "source": [
    "#### 4.1 Изучите следующие параметры: площадь, цена, число комнат, высота потолков. Постройте гистограммы для каждого параметра.\n",
    "\n",
    "\n",
    "\n",
    "- Построю гистограмму для `total_area`, `last_price`, `rooms` и `ceiling_height` с помощью матрицы диаграмм рассеяния. А так же построю ящик с усами. 15 минут\n",
    "- Опишу в промежуточном выводе, что интересного заметил 15 минут\n"
   ]
  },
  {
   "cell_type": "markdown",
   "metadata": {
    "id": "OnQ3fiW0V4o1"
   },
   "source": [
    "#### 4.2 Изучите время продажи квартиры. Постройте гистограмму. Посчитайте среднее и медиану. Опишите, сколько обычно занимает продажа. Когда можно считать, что продажи прошли очень быстро, а когда необычно долго?\n",
    "\n",
    "\n",
    "\n",
    "- Для поля `days_exposition` построю гистограмму и ящик с усами. А также посчитаю выборочную медиану и среднее. 10 минут\n",
    "- Отвечу в выводе на вопросы 15 минут\n",
    "\n"
   ]
  },
  {
   "cell_type": "markdown",
   "metadata": {
    "id": "VBxlJgLzV-rs"
   },
   "source": [
    "#### 4.3 Уберите редкие и выбивающиеся значения. Опишите, какие особенности обнаружили.\n",
    "\n",
    "\n",
    "- Опишу все подозрения, которые возникли за это время 20 минут\n",
    "- Удалю строки с аномальными значениями 10 минут"
   ]
  },
  {
   "cell_type": "markdown",
   "metadata": {
    "id": "5Z56nzksWD_V"
   },
   "source": [
    "#### 4.4 Какие факторы больше всего влияют на стоимость квартиры? Изучите, зависит ли цена от площади, числа комнат, удалённости от центра. Изучите зависимость цены от того, на каком этаже расположена квартира: первом, последнем или другом. Также изучите зависимость от даты размещения: дня недели, месяца и года.\n",
    "\n",
    "\n",
    "- Построю диаграмму рассеяния для пар (`last_price`, `total_area`), (`last_price`, `rooms`), (`last_price`, `cityCenters_nearest`), (`last_price`, `first_exposition_day_of_week`), (`last_price`, `first_exposition_month`), (`last_price`, `first_exposition_year`). А также пострю ящик с усами для `last_price` по всем возможным `floor_type`. 30 минут\n",
    "- Опишу в выводе сначала то, где есть зависимость от цены. А далее отвечу на вопрос, какой фактор влияет сильнее. 15 минут"
   ]
  },
  {
   "cell_type": "markdown",
   "metadata": {
    "id": "L4Kuj24UWJJM"
   },
   "source": [
    "#### 4.5 Выберите 10 населённых пунктов с наибольшим числом объявлений. Посчитайте среднюю цену квадратного метра в этих населённых пунктах. Выделите среди них населённые пункты с самой высокой и низкой стоимостью жилья. Эти данные можно найти по имени в столбце `locality_name`.\n",
    "\n",
    "\n",
    "- Через pivot_table выберу 10 населенные пунктов с наибольшим числом объявлений. Далее через filter и pivot_table рассчитаю `avg_price_per_area` по полю `price_per_area`. 15 минут\n",
    "- Опишу в выводе какие из населенных пунктов имеют самую высокую и самую низкую стоимость жилья. 10 минут"
   ]
  },
  {
   "cell_type": "markdown",
   "metadata": {
    "id": "_CGkPvO_WQBo"
   },
   "source": [
    "#### 4.6 Изучите предложения квартир: для каждой квартиры есть информация о расстоянии до центра. Выделите квартиры в Санкт-Петербурге `locality_name`. Ваша задача — выяснить, какая область входит в центр. Создайте столбец с расстоянием до центра в километрах: округлите до целых значений. После этого посчитайте среднюю цену для каждого километра. Постройте график: он должен показывать, как цена зависит от удалённости от центра. Определите границу, где график сильно меняется, — это и будет центральная зона.\n",
    "\n",
    "\n",
    "- Выделю данные для Питера в переменную `df_spb`. 5 минут\n",
    "- С помощью pivot_table посчитаю среднюю `price_per_area` и среднюю `last_price` с группировкой по `center_distance_km`. Назову их `avg_price_per_area` и `avg_last_price`. 10 минут\n",
    "- Построю графики зависимостей `avg_price_per_area` и `avg_last_price` от center_distance_km 10 минут\n",
    "- Опишу в выводе где проходит граница. Объясню это резким увеличением в цене. 10 минут"
   ]
  },
  {
   "cell_type": "markdown",
   "metadata": {
    "id": "4yS-UmOrWYBk"
   },
   "source": [
    "#### 4.7 Выделите сегмент квартир в центре. Проанализируйте эту территорию и изучите следующие параметры: площадь, цена, число комнат, высота потолков. Также выделите факторы, которые влияют на стоимость квартиры (число комнат, этаж, удалённость от центра, дата размещения объявления). Сделайте выводы. Отличаются ли они от общих выводов по всему городу?\n",
    "\n",
    "\n",
    "- Из переменной `df_spb` выделю только центральные объявления в переменную `df_spb_center`. 5 минут\n",
    "- Построю гистограмму по `df_spb_center` для `total_area`, `last_price`, `rooms` и `ceiling_height` с помощью матрицы диаграмм рассеяния. А так же построю ящик с усами. 15 минут\n",
    "- Построю по `df_spb_center` диаграмму рассеяния для пар (`last_price`, `total_area`), (`last_price`, `rooms`), (`last_price`, `cityCenters_nearest`), (`last_price`, `first_exposition_day_of_week`), (`last_price`, `first_exposition_month`), (`last_price`, `first_exposition_year`). А также пострю ящик с усами для `last_price` по всем возможным `floor_type`. 30 минут\n",
    "- В выводе опишу сначала какие факторы влияют на цену. 10 минут\n",
    "- А проведу сравнением с значениями по всему датасету 30 минут"
   ]
  },
  {
   "cell_type": "markdown",
   "metadata": {
    "id": "boRZi2bybfgv"
   },
   "source": [
    "---\n",
    "\n",
    "### Шаг 5. Общий вывод\n",
    "\n",
    "- Напишу общий вывод. Расскажу сперва про аномалии. А далее про зависимости, которые были замечены. И что с ними произошло, когда мы рассмотрели срез центральных объявлений. 1 час"
   ]
  },
  {
   "cell_type": "markdown",
   "metadata": {
    "id": "1UQqw6Isbj8y"
   },
   "source": [
    "---\n",
    "\n",
    "### Чек-лист готовности проекта\n",
    "\n",
    "Поставьте 'x' в выполненных пунктах. Далее нажмите Shift+Enter."
   ]
  },
  {
   "cell_type": "markdown",
   "metadata": {
    "id": "X_QpRAFdbo4x"
   },
   "source": [
    "- [x]  открыт файл\n",
    "- [ ]  файлы изучены (выведены первые строки, метод info())\n",
    "- [ ]  определены пропущенные значения\n",
    "- [ ]  заполнены пропущенные значения\n",
    "- [ ]  есть пояснение, какие пропущенные значения обнаружены\n",
    "- [ ]  изменены типы данных\n",
    "- [ ]  есть пояснение, в каких столбцах изменены типы и почему\n",
    "- [ ]  посчитано и добавлено в таблицу: цена квадратного метра\n",
    "- [ ]  посчитано и добавлено в таблицу: день недели, месяц и год публикации объявления\n",
    "- [ ]  посчитано и добавлено в таблицу: этаж квартиры; варианты — первый, последний, другой\n",
    "- [ ]  посчитано и добавлено в таблицу: соотношение жилой и общей площади, а также отношение площади кухни к общей\n",
    "- [ ]  изучены следующие параметры: площадь, цена, число комнат, высота потолков\n",
    "- [ ]  построены гистограммы для каждого параметра\n",
    "- [ ]  выполнено задание: \"Изучите время продажи квартиры. Постройте гистограмму. Посчитайте среднее и медиану. Опишите, сколько обычно занимает продажа. Когда можно считать, что продажи прошли очень быстро, а когда необычно долго?\"\n",
    "- [ ]  выполнено задание: \"Уберите редкие и выбивающиеся значения. Опишите, какие особенности обнаружили.\"\n",
    "- [ ]  выполнено задание: \"Какие факторы больше всего влияют на стоимость квартиры? Изучите, зависит ли цена от квадратного метра, числа комнат, этажа (первого или последнего), удалённости от центра. Также изучите зависимость от даты размещения: дня недели, месяца и года. \"Выберите 10 населённых пунктов с наибольшим числом объявлений. Посчитайте среднюю цену квадратного метра в этих населённых пунктах. Выделите населённые пункты с самой высокой и низкой стоимостью жилья. Эти данные можно найти по имени в столбце '*locality_name'*. \"\n",
    "- [ ]  выполнено задание: \"Изучите предложения квартир: для каждой квартиры есть информация о расстоянии до центра. Выделите квартиры в Санкт-Петербурге (*'locality_name'*). Ваша задача — выяснить, какая область входит в центр. Создайте столбец с расстоянием до центра в километрах: округлите до целых значений. После этого посчитайте среднюю цену для каждого километра. Постройте график: он должен показывать, как цена зависит от удалённости от центра. Определите границу, где график сильно меняется — это и будет центральная зона. \"\n",
    "- [ ]  выполнено задание: \"Выделите сегмент квартир в центре. Проанализируйте эту территорию и изучите следующие параметры: площадь, цена, число комнат, высота потолков. Также выделите факторы, которые влияют на стоимость квартиры (число комнат, этаж, удалённость от центра, дата размещения объявления). Сделайте выводы. Отличаются ли они от общих выводов по всему городу?\"\n",
    "- [ ]  в каждом этапе есть выводы\n",
    "- [ ]  есть общий вывод"
   ]
  }
 ],
 "metadata": {
  "colab": {
   "authorship_tag": "ABX9TyNPn1Kmb7Ye5YLVMS5cqhcs",
   "collapsed_sections": [],
   "name": "04_Project_.ipynb",
   "provenance": []
  },
  "kernelspec": {
   "display_name": "Python 3 (ipykernel)",
   "language": "python",
   "name": "python3"
  },
  "language_info": {
   "codemirror_mode": {
    "name": "ipython",
    "version": 3
   },
   "file_extension": ".py",
   "mimetype": "text/x-python",
   "name": "python",
   "nbconvert_exporter": "python",
   "pygments_lexer": "ipython3",
   "version": "3.8.12"
  }
 },
 "nbformat": 4,
 "nbformat_minor": 1
}
